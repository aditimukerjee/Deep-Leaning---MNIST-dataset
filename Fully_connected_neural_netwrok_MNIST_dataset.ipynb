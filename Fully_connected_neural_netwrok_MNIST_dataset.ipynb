{
  "nbformat": 4,
  "nbformat_minor": 0,
  "metadata": {
    "colab": {
      "name": "MNIST_dataset.ipynb",
      "provenance": [],
      "collapsed_sections": []
    },
    "kernelspec": {
      "name": "python3",
      "display_name": "Python 3"
    }
  },
  "cells": [
    {
      "cell_type": "code",
      "metadata": {
        "id": "acrEYjO0npqY"
      },
      "source": [
        "MNIST dataset \n"
      ],
      "execution_count": null,
      "outputs": []
    },
    {
      "cell_type": "code",
      "metadata": {
        "id": "me6ok1-CnuSz"
      },
      "source": [
        "%matplotlib inline\n",
        "import numpy as np\n",
        "import matplotlib.pylab as plt\n",
        "import tensorflow as tf\n"
      ],
      "execution_count": 1,
      "outputs": []
    },
    {
      "cell_type": "markdown",
      "metadata": {
        "id": "YmnoZbwTtKJh"
      },
      "source": [
        "Shown below is the MNIST dataset"
      ]
    },
    {
      "cell_type": "code",
      "metadata": {
        "colab": {
          "base_uri": "https://localhost:8080/"
        },
        "id": "_b8nhf9znwn5",
        "outputId": "207df38a-9906-4ce2-c09e-720fec0ea0a0"
      },
      "source": [
        "data_mnist = tf.keras.datasets.mnist.load_data(path=\"mnist.npz\")\n",
        "data_mnist"
      ],
      "execution_count": 37,
      "outputs": [
        {
          "output_type": "execute_result",
          "data": {
            "text/plain": [
              "((array([[[0, 0, 0, ..., 0, 0, 0],\n",
              "          [0, 0, 0, ..., 0, 0, 0],\n",
              "          [0, 0, 0, ..., 0, 0, 0],\n",
              "          ...,\n",
              "          [0, 0, 0, ..., 0, 0, 0],\n",
              "          [0, 0, 0, ..., 0, 0, 0],\n",
              "          [0, 0, 0, ..., 0, 0, 0]],\n",
              "  \n",
              "         [[0, 0, 0, ..., 0, 0, 0],\n",
              "          [0, 0, 0, ..., 0, 0, 0],\n",
              "          [0, 0, 0, ..., 0, 0, 0],\n",
              "          ...,\n",
              "          [0, 0, 0, ..., 0, 0, 0],\n",
              "          [0, 0, 0, ..., 0, 0, 0],\n",
              "          [0, 0, 0, ..., 0, 0, 0]],\n",
              "  \n",
              "         [[0, 0, 0, ..., 0, 0, 0],\n",
              "          [0, 0, 0, ..., 0, 0, 0],\n",
              "          [0, 0, 0, ..., 0, 0, 0],\n",
              "          ...,\n",
              "          [0, 0, 0, ..., 0, 0, 0],\n",
              "          [0, 0, 0, ..., 0, 0, 0],\n",
              "          [0, 0, 0, ..., 0, 0, 0]],\n",
              "  \n",
              "         ...,\n",
              "  \n",
              "         [[0, 0, 0, ..., 0, 0, 0],\n",
              "          [0, 0, 0, ..., 0, 0, 0],\n",
              "          [0, 0, 0, ..., 0, 0, 0],\n",
              "          ...,\n",
              "          [0, 0, 0, ..., 0, 0, 0],\n",
              "          [0, 0, 0, ..., 0, 0, 0],\n",
              "          [0, 0, 0, ..., 0, 0, 0]],\n",
              "  \n",
              "         [[0, 0, 0, ..., 0, 0, 0],\n",
              "          [0, 0, 0, ..., 0, 0, 0],\n",
              "          [0, 0, 0, ..., 0, 0, 0],\n",
              "          ...,\n",
              "          [0, 0, 0, ..., 0, 0, 0],\n",
              "          [0, 0, 0, ..., 0, 0, 0],\n",
              "          [0, 0, 0, ..., 0, 0, 0]],\n",
              "  \n",
              "         [[0, 0, 0, ..., 0, 0, 0],\n",
              "          [0, 0, 0, ..., 0, 0, 0],\n",
              "          [0, 0, 0, ..., 0, 0, 0],\n",
              "          ...,\n",
              "          [0, 0, 0, ..., 0, 0, 0],\n",
              "          [0, 0, 0, ..., 0, 0, 0],\n",
              "          [0, 0, 0, ..., 0, 0, 0]]], dtype=uint8),\n",
              "  array([5, 0, 4, ..., 5, 6, 8], dtype=uint8)),\n",
              " (array([[[0, 0, 0, ..., 0, 0, 0],\n",
              "          [0, 0, 0, ..., 0, 0, 0],\n",
              "          [0, 0, 0, ..., 0, 0, 0],\n",
              "          ...,\n",
              "          [0, 0, 0, ..., 0, 0, 0],\n",
              "          [0, 0, 0, ..., 0, 0, 0],\n",
              "          [0, 0, 0, ..., 0, 0, 0]],\n",
              "  \n",
              "         [[0, 0, 0, ..., 0, 0, 0],\n",
              "          [0, 0, 0, ..., 0, 0, 0],\n",
              "          [0, 0, 0, ..., 0, 0, 0],\n",
              "          ...,\n",
              "          [0, 0, 0, ..., 0, 0, 0],\n",
              "          [0, 0, 0, ..., 0, 0, 0],\n",
              "          [0, 0, 0, ..., 0, 0, 0]],\n",
              "  \n",
              "         [[0, 0, 0, ..., 0, 0, 0],\n",
              "          [0, 0, 0, ..., 0, 0, 0],\n",
              "          [0, 0, 0, ..., 0, 0, 0],\n",
              "          ...,\n",
              "          [0, 0, 0, ..., 0, 0, 0],\n",
              "          [0, 0, 0, ..., 0, 0, 0],\n",
              "          [0, 0, 0, ..., 0, 0, 0]],\n",
              "  \n",
              "         ...,\n",
              "  \n",
              "         [[0, 0, 0, ..., 0, 0, 0],\n",
              "          [0, 0, 0, ..., 0, 0, 0],\n",
              "          [0, 0, 0, ..., 0, 0, 0],\n",
              "          ...,\n",
              "          [0, 0, 0, ..., 0, 0, 0],\n",
              "          [0, 0, 0, ..., 0, 0, 0],\n",
              "          [0, 0, 0, ..., 0, 0, 0]],\n",
              "  \n",
              "         [[0, 0, 0, ..., 0, 0, 0],\n",
              "          [0, 0, 0, ..., 0, 0, 0],\n",
              "          [0, 0, 0, ..., 0, 0, 0],\n",
              "          ...,\n",
              "          [0, 0, 0, ..., 0, 0, 0],\n",
              "          [0, 0, 0, ..., 0, 0, 0],\n",
              "          [0, 0, 0, ..., 0, 0, 0]],\n",
              "  \n",
              "         [[0, 0, 0, ..., 0, 0, 0],\n",
              "          [0, 0, 0, ..., 0, 0, 0],\n",
              "          [0, 0, 0, ..., 0, 0, 0],\n",
              "          ...,\n",
              "          [0, 0, 0, ..., 0, 0, 0],\n",
              "          [0, 0, 0, ..., 0, 0, 0],\n",
              "          [0, 0, 0, ..., 0, 0, 0]]], dtype=uint8),\n",
              "  array([7, 2, 1, ..., 4, 5, 6], dtype=uint8)))"
            ]
          },
          "metadata": {
            "tags": []
          },
          "execution_count": 37
        }
      ]
    },
    {
      "cell_type": "markdown",
      "metadata": {
        "id": "LFlfanNU7wcD"
      },
      "source": [
        ""
      ]
    },
    {
      "cell_type": "markdown",
      "metadata": {
        "id": "063x2PWB7V6j"
      },
      "source": [
        "#1. LOADING THE DATASET  AND EXPLORING IT \n",
        "Splittint the entire dataset into testing and developmental dataset"
      ]
    },
    {
      "cell_type": "code",
      "metadata": {
        "colab": {
          "base_uri": "https://localhost:8080/"
        },
        "id": "K4gFB98wnwNX",
        "outputId": "aaa75fe5-cb38-4ab5-e23b-17f594d0f3f6"
      },
      "source": [
        "(X_dev,Y_dev),(X_test,Y_test) = tf.keras.datasets.mnist.load_data()\n",
        "print(\"Developmental set\")\n",
        "print(X_dev.shape)\n",
        "print(Y_dev.shape)\n",
        "\n",
        "\n",
        "print(\"Testing set\")\n",
        "print(X_test.shape)\n",
        "print(Y_test.shape)"
      ],
      "execution_count": 38,
      "outputs": [
        {
          "output_type": "stream",
          "text": [
            "Developmental set\n",
            "(60000, 28, 28)\n",
            "(60000,)\n",
            "Testing set\n",
            "(10000, 28, 28)\n",
            "(10000,)\n"
          ],
          "name": "stdout"
        }
      ]
    },
    {
      "cell_type": "markdown",
      "metadata": {
        "id": "8qSgvhkip51z"
      },
      "source": [
        "The devlopmental dataset has 60k rows with images of 28 pixel by 28 pixel\n",
        "\n",
        "The testing dataset has 10k rows with images of 28 pixel by 28 pixel\n"
      ]
    },
    {
      "cell_type": "markdown",
      "metadata": {
        "id": "sKmQMjoa8gLF"
      },
      "source": [
        "##Exploring the classes in the dataset"
      ]
    },
    {
      "cell_type": "code",
      "metadata": {
        "colab": {
          "base_uri": "https://localhost:8080/"
        },
        "id": "tPw2zydRqnX-",
        "outputId": "d6b25c23-c653-405e-a489-127446f9e720"
      },
      "source": [
        "print(\"Number of classes in the developmental dataset\")\n",
        "print(np.unique(Y_dev))\n",
        "\n",
        "print(\"Number of classes in the testing dataset\")\n",
        "print(np.unique(Y_test))"
      ],
      "execution_count": 39,
      "outputs": [
        {
          "output_type": "stream",
          "text": [
            "Number of classes in the developmental dataset\n",
            "[0 1 2 3 4 5 6 7 8 9]\n",
            "Number of classes in the testing dataset\n",
            "[0 1 2 3 4 5 6 7 8 9]\n"
          ],
          "name": "stdout"
        }
      ]
    },
    {
      "cell_type": "markdown",
      "metadata": {
        "id": "QWS4z23Zqlfu"
      },
      "source": [
        "There are 10 unique classes in the dataset\n"
      ]
    },
    {
      "cell_type": "markdown",
      "metadata": {
        "id": "NA7ukw8rwu8u"
      },
      "source": [
        "##HISTOGRAM OF THE DEVELOPMENTAL DATASET"
      ]
    },
    {
      "cell_type": "code",
      "metadata": {
        "colab": {
          "base_uri": "https://localhost:8080/",
          "height": 281
        },
        "id": "wqslihIWsEbJ",
        "outputId": "3c7e6605-0fe1-40de-f578-ac8b710145e0"
      },
      "source": [
        "plt.figure()\n",
        "plt.hist(Y_dev,bins = range(0,11))#since the numbers range from 0 to 10\n",
        "plt.xlabel(\"Labels\")\n",
        "plt.ylabel(\"Frequency\")\n",
        "plt.show()"
      ],
      "execution_count": 40,
      "outputs": [
        {
          "output_type": "display_data",
          "data": {
            "image/png": "[encoded data removed]",
            "text/plain": [
              "<Figure size 432x288 with 1 Axes>"
            ]
          },
          "metadata": {
            "tags": [],
            "needs_background": "light"
          }
        }
      ]
    },
    {
      "cell_type": "markdown",
      "metadata": {
        "id": "xVSSn1upwZHx"
      },
      "source": [
        "The propositions of labels in the developmental datset depict a uniform distribtion "
      ]
    },
    {
      "cell_type": "markdown",
      "metadata": {
        "id": "nrlcqqzQvjk4"
      },
      "source": [
        "##SPLITTING DEVELOPMENTAL SET INTO TRAIN AND VALIDATION SET"
      ]
    },
    {
      "cell_type": "code",
      "metadata": {
        "colab": {
          "base_uri": "https://localhost:8080/"
        },
        "id": "EMgcslTYumKc",
        "outputId": "bd747223-0ce3-4665-b7a0-10d8ed401876"
      },
      "source": [
        "indexes = np.arange(Y_dev.size ,dtype = int) #creating an array of all the labels in the developmental set\n",
        "#size of the samples in the development set, type\n",
        "np.random.shuffle(indexes) # shuffling the indexes\n",
        "X_dev = X_dev[indexes]\n",
        "Y_dev = Y_dev[indexes]\n",
        "# need to shuffle them in a syncoryzed manner so that the x and y correspond to one another\n",
        "\n",
        "#DEFINING THE SPLIT RATIO\n",
        "nsplit = int(0.75*Y_dev.size) # split ratio of the developmental dataset\n",
        "#splitting data into 75% developmental set and 25% test set\n",
        "\n",
        "X_train = X_dev[:nsplit]\n",
        "Y_train = Y_dev[:nsplit]\n",
        "\n",
        "X_val = X_dev[nsplit:]\n",
        "Y_val = Y_dev[nsplit:]\n",
        "\n",
        "print(\"Samples in training set\")\n",
        "print(X_train.shape)\n",
        "\n",
        "print(\"Samples in validation set\")\n",
        "print(X_val.shape)"
      ],
      "execution_count": 41,
      "outputs": [
        {
          "output_type": "stream",
          "text": [
            "Samples in training set\n",
            "(45000, 28, 28)\n",
            "Samples in validation set\n",
            "(15000, 28, 28)\n"
          ],
          "name": "stdout"
        }
      ]
    },
    {
      "cell_type": "markdown",
      "metadata": {
        "id": "FdCHOgE_zwy9"
      },
      "source": [
        "From 60k samples in the training set 45k went to training set and 15k went to validation set"
      ]
    },
    {
      "cell_type": "markdown",
      "metadata": {
        "id": "vwh1SIbb-FIJ"
      },
      "source": [
        "##DEPICTING BASIC INFORMATION ABOUT THE DATASET"
      ]
    },
    {
      "cell_type": "code",
      "metadata": {
        "colab": {
          "base_uri": "https://localhost:8080/"
        },
        "id": "zHAHXvPi0Hai",
        "outputId": "1a56254d-09d9-4268-c77c-9c6ba68de794"
      },
      "source": [
        "print(\"Training dataset info\")\n",
        "print(X_train.min(), X_train.max(), X_train.mean(),X_train.std())\n",
        "\n",
        "print(\"--------------------------------------\")\n",
        "print(\"Validation dataset info\")\n",
        "print(X_val.min(), X_val.max(), X_val.mean(),X_val.std())"
      ],
      "execution_count": 42,
      "outputs": [
        {
          "output_type": "stream",
          "text": [
            "Training dataset info\n",
            "0 255 33.32050490362812 78.56996200321163\n",
            "--------------------------------------\n",
            "Validation dataset info\n",
            "0 255 33.31217108843538 78.5600731257149\n"
          ],
          "name": "stdout"
        }
      ]
    },
    {
      "cell_type": "markdown",
      "metadata": {
        "id": "Xn6xzU4p0_Nx"
      },
      "source": [
        "Here we see the basic information aboutr the dataset\n",
        "In the trainining dataset the we see the min,max, mean and standard deviation are 0, 255, 33 and 78 respectively\n",
        "\n",
        "In the validation dataset the we see the min,max, mean and standard deviation are 0, 255, 33 and 79 respectively\n",
        "\n",
        "Both the values seem to be close ie. the data has been shuffled well"
      ]
    },
    {
      "cell_type": "markdown",
      "metadata": {
        "id": "CLkD2WfB1mAV"
      },
      "source": [
        "#2. DATA SCALING"
      ]
    },
    {
      "cell_type": "code",
      "metadata": {
        "id": "vhvTQsAJ1gcA"
      },
      "source": [
        "norm_type = 0 #0 ---> min_max normalization , 1----> standardization (mean/std)\n",
        "\n",
        "if norm_type == 0:\n",
        "  X_train = X_train/255\n",
        "  X_val = X_val/255\n",
        "  X_test = X_test/255\n",
        "elif norm_type == 1:  \n",
        "  train_mean = X_train.mean()\n",
        "  train_std = X_train.std()\n",
        "  X_train = X_train -train_mean /train_std\n",
        "  X_val = X_val -train_mean /train_std\n",
        "  X_test = X_test -train_mean /train_std  \n",
        "else:\n",
        "  pass # no normalization at all  "
      ],
      "execution_count": 43,
      "outputs": []
    },
    {
      "cell_type": "markdown",
      "metadata": {
        "id": "uW_WCJ443Od3"
      },
      "source": [
        "#3.One Hot Encoding"
      ]
    },
    {
      "cell_type": "code",
      "metadata": {
        "colab": {
          "base_uri": "https://localhost:8080/"
        },
        "id": "H24ioKXH3Sy7",
        "outputId": "4c9f553f-1fbe-4312-dd7d-d2549a5c6329"
      },
      "source": [
        "Y_train_oh = tf.keras.utils.to_categorical(Y_train)\n",
        "Y_val_oh = tf.keras.utils.to_categorical(Y_val)\n",
        "Y_test_oh = tf.keras.utils.to_categorical(Y_test)\n",
        "\n",
        "print(\"First 5 samples of the training dataset\")\n",
        "print (Y_train[0:5])\n",
        "\n",
        "print(\"First 5 one hot encoded samples of the training dataset\")\n",
        "print (Y_train_oh[0:5])"
      ],
      "execution_count": 44,
      "outputs": [
        {
          "output_type": "stream",
          "text": [
            "First 5 samples of the training dataset\n",
            "[1 9 9 5 4]\n",
            "First 5 one hot encoded samples of the training dataset\n",
            "[[0. 1. 0. 0. 0. 0. 0. 0. 0. 0.]\n",
            " [0. 0. 0. 0. 0. 0. 0. 0. 0. 1.]\n",
            " [0. 0. 0. 0. 0. 0. 0. 0. 0. 1.]\n",
            " [0. 0. 0. 0. 0. 1. 0. 0. 0. 0.]\n",
            " [0. 0. 0. 0. 1. 0. 0. 0. 0. 0.]]\n"
          ],
          "name": "stdout"
        }
      ]
    },
    {
      "cell_type": "markdown",
      "metadata": {
        "id": "Qa9SSjr7_fp7"
      },
      "source": [
        "It seems that one hot encoding has been done correctly"
      ]
    },
    {
      "cell_type": "markdown",
      "metadata": {
        "id": "pPMWX_Rs5NHp"
      },
      "source": [
        "#4.Define your model,cost function, optimizer, learning rate"
      ]
    },
    {
      "cell_type": "code",
      "metadata": {
        "id": "1YNZxz_p5UGd"
      },
      "source": [
        "def my_model(ishape = (28,28) , k =10 , lr = 1e-4): #shape of images, classes , learning rate\n",
        "    model_input = tf.keras.Input(shape = ishape)\n",
        "    model_input_flatten = tf.keras.layers.Flatten()(model_input) #layers are being flattened, input is the previosu layer\n",
        "    sec = tf.keras.layers.Dense(k, activation = 'relu') (model_input_flatten)\n",
        "    third = tf.keras.layers.Dense(k, activation = 'relu') (sec)\n",
        "    #fourth = tf.keras.layers.Dense(k, activation = 'relu') (third)\n",
        "    out = tf.keras.layers.Dense(k, activation = 'softmax') (third) # one layer that is output , k is classes, activation is softmax we need a probabilty at the end , input is model_input_flatten\n",
        "    model = tf.keras.models.Model(inputs =model_input , outputs = out ) #defining the model # define inputs and outputs to the model\n",
        "    model.compile(optimizer = tf.keras.optimizers.Adam(lr), loss = 'categorical_crossentropy', metrics = ['accuracy']) # compiling the model - define the optimzer, cost function \n",
        "    return model\n",
        "\n",
        "\n",
        "\n"
      ],
      "execution_count": 45,
      "outputs": []
    },
    {
      "cell_type": "markdown",
      "metadata": {
        "id": "L30x2-t49deI"
      },
      "source": [
        "#5. Defining 3 callbacks (callbacks means that if the model is not improving it will stop)"
      ]
    },
    {
      "cell_type": "code",
      "metadata": {
        "id": "rVjh_y9H9pCN"
      },
      "source": [
        "model_name = \"best_model_mnist.h5\"\n",
        "#CALLBACK - 1 - early_stop\n",
        "early_stop = tf.keras.callbacks.EarlyStopping(monitor = 'val_loss' , patience = 20) # if for 20 epochs the val_loss does not improve the training is going to be intereppupted\n",
        "#patience is how long the model is going to train without intereppupting\n",
        "\n",
        "#CALLBACK - 2 - monitor\n",
        "monitor = tf.keras.callbacks.ModelCheckpoint (model_name, monitor = 'val_loss',save_best_only = True , save_weights_only = True )\n",
        "# you save the best model and the weights\n",
        "#the callback is going the keep on chekcing the validation error and if teh validation error decreases tehn we will save the model as the best model\n",
        "# mode is whether u wabnt to save the minimum or maximum value of teh cost function, we are not defining mode as it is automaticcally defined defined by tf\n",
        "\n",
        "#CALLBACK - 3 - lr_schedule\n",
        "def scheduler(epoch, lr):\n",
        "  if epoch%10==0:  #every 10 epoch reduce the learning rate by a factor of 2 # 10 here use some other number elsewhere\n",
        "    lr = lr/2\n",
        "  return lr\n",
        "  \n",
        "lr_schedule = tf.keras.callbacks.LearningRateScheduler(scheduler)# definding the callback"
      ],
      "execution_count": 46,
      "outputs": []
    },
    {
      "cell_type": "markdown",
      "metadata": {
        "id": "05Mr77SGG2qd"
      },
      "source": [
        "TRAINING THE MODEL"
      ]
    },
    {
      "cell_type": "code",
      "metadata": {
        "colab": {
          "base_uri": "https://localhost:8080/"
        },
        "id": "w8v9NtQUG_QO",
        "outputId": "c85d261f-595b-4dec-dcf8-f88359a1c3f7"
      },
      "source": [
        "model= my_model() #model is calling the model function that was defined in step 4\n",
        "#fit my model\n",
        "model.fit(X_train,Y_train_oh,batch_size = 32, epochs=  200, verbose = 1, callbacks = [early_stop, monitor, lr_schedule], validation_data = (X_val,Y_val_oh), shuffle = True)\n",
        "#larger batches take longer to train and smaller batch sizes can train faster\n",
        "#graident approxinmation for a small batch size may not be that good\n",
        "# batch_size is the number of samples taht we use to estiamet teh gradient before taking one step\n",
        "#shuffle ie.e batches that u snet to the GPU are shuffled"
      ],
      "execution_count": 47,
      "outputs": [
        {
          "output_type": "stream",
          "text": [
            "Epoch 1/200\n",
            "1407/1407 [==============================] - 3s 2ms/step - loss: 2.0691 - accuracy: 0.2824 - val_loss: 1.4340 - val_accuracy: 0.5821\n",
            "Epoch 2/200\n",
            "1407/1407 [==============================] - 3s 2ms/step - loss: 1.2880 - accuracy: 0.6281 - val_loss: 0.9719 - val_accuracy: 0.7424\n",
            "Epoch 3/200\n",
            "1407/1407 [==============================] - 3s 2ms/step - loss: 0.8973 - accuracy: 0.7628 - val_loss: 0.7406 - val_accuracy: 0.8114\n",
            "Epoch 4/200\n",
            "1407/1407 [==============================] - 3s 2ms/step - loss: 0.7078 - accuracy: 0.8138 - val_loss: 0.6129 - val_accuracy: 0.8409\n",
            "Epoch 5/200\n",
            "1407/1407 [==============================] - 2s 2ms/step - loss: 0.5943 - accuracy: 0.8414 - val_loss: 0.5371 - val_accuracy: 0.8572\n",
            "Epoch 6/200\n",
            "1407/1407 [==============================] - 2s 2ms/step - loss: 0.5406 - accuracy: 0.8543 - val_loss: 0.4889 - val_accuracy: 0.8671\n",
            "Epoch 7/200\n",
            "1407/1407 [==============================] - 2s 2ms/step - loss: 0.4867 - accuracy: 0.8671 - val_loss: 0.4568 - val_accuracy: 0.8749\n",
            "Epoch 8/200\n",
            "1407/1407 [==============================] - 2s 2ms/step - loss: 0.4627 - accuracy: 0.8755 - val_loss: 0.4322 - val_accuracy: 0.8810\n",
            "Epoch 9/200\n",
            "1407/1407 [==============================] - 3s 2ms/step - loss: 0.4324 - accuracy: 0.8818 - val_loss: 0.4145 - val_accuracy: 0.8843\n",
            "Epoch 10/200\n",
            "1407/1407 [==============================] - 3s 2ms/step - loss: 0.4175 - accuracy: 0.8850 - val_loss: 0.4002 - val_accuracy: 0.8895\n",
            "Epoch 11/200\n",
            "1407/1407 [==============================] - 3s 2ms/step - loss: 0.4043 - accuracy: 0.8903 - val_loss: 0.3939 - val_accuracy: 0.8909\n",
            "Epoch 12/200\n",
            "1407/1407 [==============================] - 3s 2ms/step - loss: 0.3931 - accuracy: 0.8923 - val_loss: 0.3889 - val_accuracy: 0.8923\n",
            "Epoch 13/200\n",
            "1407/1407 [==============================] - 3s 2ms/step - loss: 0.4009 - accuracy: 0.8891 - val_loss: 0.3834 - val_accuracy: 0.8933\n",
            "Epoch 14/200\n",
            "1407/1407 [==============================] - 3s 2ms/step - loss: 0.3911 - accuracy: 0.8912 - val_loss: 0.3791 - val_accuracy: 0.8943\n",
            "Epoch 15/200\n",
            "1407/1407 [==============================] - 3s 2ms/step - loss: 0.3764 - accuracy: 0.8967 - val_loss: 0.3747 - val_accuracy: 0.8949\n",
            "Epoch 16/200\n",
            "1407/1407 [==============================] - 3s 2ms/step - loss: 0.3747 - accuracy: 0.8958 - val_loss: 0.3708 - val_accuracy: 0.8957\n",
            "Epoch 17/200\n",
            "1407/1407 [==============================] - 3s 2ms/step - loss: 0.3688 - accuracy: 0.8961 - val_loss: 0.3675 - val_accuracy: 0.8975\n",
            "Epoch 18/200\n",
            "1407/1407 [==============================] - 3s 2ms/step - loss: 0.3724 - accuracy: 0.8965 - val_loss: 0.3637 - val_accuracy: 0.8987\n",
            "Epoch 19/200\n",
            "1407/1407 [==============================] - 3s 2ms/step - loss: 0.3620 - accuracy: 0.8979 - val_loss: 0.3608 - val_accuracy: 0.8995\n",
            "Epoch 20/200\n",
            "1407/1407 [==============================] - 2s 2ms/step - loss: 0.3666 - accuracy: 0.8972 - val_loss: 0.3577 - val_accuracy: 0.9002\n",
            "Epoch 21/200\n",
            "1407/1407 [==============================] - 3s 2ms/step - loss: 0.3535 - accuracy: 0.9008 - val_loss: 0.3561 - val_accuracy: 0.9011\n",
            "Epoch 22/200\n",
            "1407/1407 [==============================] - 3s 2ms/step - loss: 0.3558 - accuracy: 0.9016 - val_loss: 0.3546 - val_accuracy: 0.9011\n",
            "Epoch 23/200\n",
            "1407/1407 [==============================] - 2s 2ms/step - loss: 0.3623 - accuracy: 0.8988 - val_loss: 0.3533 - val_accuracy: 0.9011\n",
            "Epoch 24/200\n",
            "1407/1407 [==============================] - 2s 2ms/step - loss: 0.3493 - accuracy: 0.9022 - val_loss: 0.3519 - val_accuracy: 0.9009\n",
            "Epoch 25/200\n",
            "1407/1407 [==============================] - 3s 2ms/step - loss: 0.3478 - accuracy: 0.9020 - val_loss: 0.3506 - val_accuracy: 0.9019\n",
            "Epoch 26/200\n",
            "1407/1407 [==============================] - 3s 2ms/step - loss: 0.3506 - accuracy: 0.9033 - val_loss: 0.3494 - val_accuracy: 0.9023\n",
            "Epoch 27/200\n",
            "1407/1407 [==============================] - 3s 2ms/step - loss: 0.3537 - accuracy: 0.9007 - val_loss: 0.3481 - val_accuracy: 0.9023\n",
            "Epoch 28/200\n",
            "1407/1407 [==============================] - 3s 2ms/step - loss: 0.3429 - accuracy: 0.9040 - val_loss: 0.3468 - val_accuracy: 0.9026\n",
            "Epoch 29/200\n",
            "1407/1407 [==============================] - 3s 2ms/step - loss: 0.3481 - accuracy: 0.9034 - val_loss: 0.3458 - val_accuracy: 0.9030\n",
            "Epoch 30/200\n",
            "1407/1407 [==============================] - 3s 2ms/step - loss: 0.3477 - accuracy: 0.9032 - val_loss: 0.3446 - val_accuracy: 0.9033\n",
            "Epoch 31/200\n",
            "1407/1407 [==============================] - 3s 2ms/step - loss: 0.3474 - accuracy: 0.9037 - val_loss: 0.3439 - val_accuracy: 0.9035\n",
            "Epoch 32/200\n",
            "1407/1407 [==============================] - 3s 2ms/step - loss: 0.3428 - accuracy: 0.9032 - val_loss: 0.3434 - val_accuracy: 0.9041\n",
            "Epoch 33/200\n",
            "1407/1407 [==============================] - 3s 2ms/step - loss: 0.3416 - accuracy: 0.9043 - val_loss: 0.3428 - val_accuracy: 0.9041\n",
            "Epoch 34/200\n",
            "1407/1407 [==============================] - 3s 2ms/step - loss: 0.3410 - accuracy: 0.9058 - val_loss: 0.3422 - val_accuracy: 0.9045\n",
            "Epoch 35/200\n",
            "1407/1407 [==============================] - 3s 2ms/step - loss: 0.3399 - accuracy: 0.9043 - val_loss: 0.3417 - val_accuracy: 0.9043\n",
            "Epoch 36/200\n",
            "1407/1407 [==============================] - 3s 2ms/step - loss: 0.3514 - accuracy: 0.9019 - val_loss: 0.3412 - val_accuracy: 0.9046\n",
            "Epoch 37/200\n",
            "1407/1407 [==============================] - 3s 2ms/step - loss: 0.3511 - accuracy: 0.9028 - val_loss: 0.3406 - val_accuracy: 0.9048\n",
            "Epoch 38/200\n",
            "1407/1407 [==============================] - 3s 2ms/step - loss: 0.3436 - accuracy: 0.9038 - val_loss: 0.3402 - val_accuracy: 0.9050\n",
            "Epoch 39/200\n",
            "1407/1407 [==============================] - 3s 2ms/step - loss: 0.3466 - accuracy: 0.9061 - val_loss: 0.3397 - val_accuracy: 0.9053\n",
            "Epoch 40/200\n",
            "1407/1407 [==============================] - 2s 2ms/step - loss: 0.3365 - accuracy: 0.9076 - val_loss: 0.3391 - val_accuracy: 0.9057\n",
            "Epoch 41/200\n",
            "1407/1407 [==============================] - 3s 2ms/step - loss: 0.3401 - accuracy: 0.9065 - val_loss: 0.3388 - val_accuracy: 0.9057\n",
            "Epoch 42/200\n",
            "1407/1407 [==============================] - 3s 2ms/step - loss: 0.3371 - accuracy: 0.9069 - val_loss: 0.3386 - val_accuracy: 0.9059\n",
            "Epoch 43/200\n",
            "1407/1407 [==============================] - 3s 2ms/step - loss: 0.3367 - accuracy: 0.9069 - val_loss: 0.3383 - val_accuracy: 0.9057\n",
            "Epoch 44/200\n",
            "1407/1407 [==============================] - 3s 2ms/step - loss: 0.3375 - accuracy: 0.9065 - val_loss: 0.3381 - val_accuracy: 0.9060\n",
            "Epoch 45/200\n",
            "1407/1407 [==============================] - 3s 2ms/step - loss: 0.3417 - accuracy: 0.9053 - val_loss: 0.3378 - val_accuracy: 0.9056\n",
            "Epoch 46/200\n",
            "1407/1407 [==============================] - 3s 2ms/step - loss: 0.3350 - accuracy: 0.9087 - val_loss: 0.3376 - val_accuracy: 0.9061\n",
            "Epoch 47/200\n",
            "1407/1407 [==============================] - 3s 2ms/step - loss: 0.3331 - accuracy: 0.9078 - val_loss: 0.3373 - val_accuracy: 0.9061\n",
            "Epoch 48/200\n",
            "1407/1407 [==============================] - 3s 2ms/step - loss: 0.3299 - accuracy: 0.9085 - val_loss: 0.3371 - val_accuracy: 0.9062\n",
            "Epoch 49/200\n",
            "1407/1407 [==============================] - 4s 3ms/step - loss: 0.3431 - accuracy: 0.9047 - val_loss: 0.3368 - val_accuracy: 0.9063\n",
            "Epoch 50/200\n",
            "1407/1407 [==============================] - 3s 2ms/step - loss: 0.3398 - accuracy: 0.9067 - val_loss: 0.3366 - val_accuracy: 0.9061\n",
            "Epoch 51/200\n",
            "1407/1407 [==============================] - 3s 2ms/step - loss: 0.3365 - accuracy: 0.9081 - val_loss: 0.3365 - val_accuracy: 0.9063\n",
            "Epoch 52/200\n",
            "1407/1407 [==============================] - 3s 2ms/step - loss: 0.3383 - accuracy: 0.9044 - val_loss: 0.3363 - val_accuracy: 0.9061\n",
            "Epoch 53/200\n",
            "1407/1407 [==============================] - 2s 2ms/step - loss: 0.3307 - accuracy: 0.9096 - val_loss: 0.3362 - val_accuracy: 0.9060\n",
            "Epoch 54/200\n",
            "1407/1407 [==============================] - 3s 2ms/step - loss: 0.3359 - accuracy: 0.9055 - val_loss: 0.3361 - val_accuracy: 0.9063\n",
            "Epoch 55/200\n",
            "1407/1407 [==============================] - 3s 2ms/step - loss: 0.3377 - accuracy: 0.9071 - val_loss: 0.3360 - val_accuracy: 0.9063\n",
            "Epoch 56/200\n",
            "1407/1407 [==============================] - 2s 2ms/step - loss: 0.3385 - accuracy: 0.9058 - val_loss: 0.3358 - val_accuracy: 0.9062\n",
            "Epoch 57/200\n",
            "1407/1407 [==============================] - 2s 2ms/step - loss: 0.3400 - accuracy: 0.9060 - val_loss: 0.3357 - val_accuracy: 0.9062\n",
            "Epoch 58/200\n",
            "1407/1407 [==============================] - 3s 2ms/step - loss: 0.3338 - accuracy: 0.9079 - val_loss: 0.3356 - val_accuracy: 0.9062\n",
            "Epoch 59/200\n",
            "1407/1407 [==============================] - 3s 2ms/step - loss: 0.3358 - accuracy: 0.9075 - val_loss: 0.3355 - val_accuracy: 0.9064\n",
            "Epoch 60/200\n",
            "1407/1407 [==============================] - 3s 2ms/step - loss: 0.3366 - accuracy: 0.9079 - val_loss: 0.3354 - val_accuracy: 0.9065\n",
            "Epoch 61/200\n",
            "1407/1407 [==============================] - 3s 2ms/step - loss: 0.3387 - accuracy: 0.9063 - val_loss: 0.3353 - val_accuracy: 0.9065\n",
            "Epoch 62/200\n",
            "1407/1407 [==============================] - 3s 2ms/step - loss: 0.3314 - accuracy: 0.9085 - val_loss: 0.3352 - val_accuracy: 0.9065\n",
            "Epoch 63/200\n",
            "1407/1407 [==============================] - 3s 2ms/step - loss: 0.3335 - accuracy: 0.9067 - val_loss: 0.3352 - val_accuracy: 0.9064\n",
            "Epoch 64/200\n",
            "1407/1407 [==============================] - 3s 2ms/step - loss: 0.3362 - accuracy: 0.9074 - val_loss: 0.3351 - val_accuracy: 0.9065\n",
            "Epoch 65/200\n",
            "1407/1407 [==============================] - 3s 2ms/step - loss: 0.3365 - accuracy: 0.9070 - val_loss: 0.3351 - val_accuracy: 0.9064\n",
            "Epoch 66/200\n",
            "1407/1407 [==============================] - 3s 2ms/step - loss: 0.3332 - accuracy: 0.9077 - val_loss: 0.3350 - val_accuracy: 0.9065\n",
            "Epoch 67/200\n",
            "1407/1407 [==============================] - 2s 2ms/step - loss: 0.3366 - accuracy: 0.9066 - val_loss: 0.3349 - val_accuracy: 0.9065\n",
            "Epoch 68/200\n",
            "1407/1407 [==============================] - 3s 2ms/step - loss: 0.3396 - accuracy: 0.9060 - val_loss: 0.3349 - val_accuracy: 0.9065\n",
            "Epoch 69/200\n",
            "1407/1407 [==============================] - 3s 2ms/step - loss: 0.3330 - accuracy: 0.9079 - val_loss: 0.3348 - val_accuracy: 0.9067\n",
            "Epoch 70/200\n",
            "1407/1407 [==============================] - 3s 2ms/step - loss: 0.3371 - accuracy: 0.9048 - val_loss: 0.3348 - val_accuracy: 0.9066\n",
            "Epoch 71/200\n",
            "1407/1407 [==============================] - 3s 2ms/step - loss: 0.3274 - accuracy: 0.9085 - val_loss: 0.3347 - val_accuracy: 0.9066\n",
            "Epoch 72/200\n",
            "1407/1407 [==============================] - 3s 2ms/step - loss: 0.3315 - accuracy: 0.9091 - val_loss: 0.3347 - val_accuracy: 0.9065\n",
            "Epoch 73/200\n",
            "1407/1407 [==============================] - 3s 2ms/step - loss: 0.3352 - accuracy: 0.9065 - val_loss: 0.3347 - val_accuracy: 0.9067\n",
            "Epoch 74/200\n",
            "1407/1407 [==============================] - 3s 2ms/step - loss: 0.3308 - accuracy: 0.9087 - val_loss: 0.3347 - val_accuracy: 0.9067\n",
            "Epoch 75/200\n",
            "1407/1407 [==============================] - 3s 2ms/step - loss: 0.3282 - accuracy: 0.9100 - val_loss: 0.3346 - val_accuracy: 0.9067\n",
            "Epoch 76/200\n",
            "1407/1407 [==============================] - 3s 2ms/step - loss: 0.3352 - accuracy: 0.9078 - val_loss: 0.3346 - val_accuracy: 0.9067\n",
            "Epoch 77/200\n",
            "1407/1407 [==============================] - 3s 2ms/step - loss: 0.3398 - accuracy: 0.9047 - val_loss: 0.3346 - val_accuracy: 0.9067\n",
            "Epoch 78/200\n",
            "1407/1407 [==============================] - 3s 2ms/step - loss: 0.3350 - accuracy: 0.9065 - val_loss: 0.3345 - val_accuracy: 0.9067\n",
            "Epoch 79/200\n",
            "1407/1407 [==============================] - 3s 2ms/step - loss: 0.3305 - accuracy: 0.9075 - val_loss: 0.3345 - val_accuracy: 0.9067\n",
            "Epoch 80/200\n",
            "1407/1407 [==============================] - 3s 2ms/step - loss: 0.3320 - accuracy: 0.9084 - val_loss: 0.3345 - val_accuracy: 0.9067\n",
            "Epoch 81/200\n",
            "1407/1407 [==============================] - 3s 2ms/step - loss: 0.3241 - accuracy: 0.9099 - val_loss: 0.3345 - val_accuracy: 0.9067\n",
            "Epoch 82/200\n",
            "1407/1407 [==============================] - 3s 2ms/step - loss: 0.3320 - accuracy: 0.9082 - val_loss: 0.3344 - val_accuracy: 0.9067\n",
            "Epoch 83/200\n",
            "1407/1407 [==============================] - 3s 2ms/step - loss: 0.3305 - accuracy: 0.9080 - val_loss: 0.3344 - val_accuracy: 0.9067\n",
            "Epoch 84/200\n",
            "1407/1407 [==============================] - 3s 2ms/step - loss: 0.3353 - accuracy: 0.9074 - val_loss: 0.3344 - val_accuracy: 0.9067\n",
            "Epoch 85/200\n",
            "1407/1407 [==============================] - 3s 2ms/step - loss: 0.3271 - accuracy: 0.9101 - val_loss: 0.3344 - val_accuracy: 0.9067\n",
            "Epoch 86/200\n",
            "1407/1407 [==============================] - 3s 2ms/step - loss: 0.3298 - accuracy: 0.9076 - val_loss: 0.3344 - val_accuracy: 0.9067\n",
            "Epoch 87/200\n",
            "1407/1407 [==============================] - 3s 2ms/step - loss: 0.3325 - accuracy: 0.9080 - val_loss: 0.3344 - val_accuracy: 0.9067\n",
            "Epoch 88/200\n",
            "1407/1407 [==============================] - 3s 2ms/step - loss: 0.3331 - accuracy: 0.9065 - val_loss: 0.3344 - val_accuracy: 0.9067\n",
            "Epoch 89/200\n",
            "1407/1407 [==============================] - 3s 2ms/step - loss: 0.3273 - accuracy: 0.9098 - val_loss: 0.3343 - val_accuracy: 0.9067\n",
            "Epoch 90/200\n",
            "1407/1407 [==============================] - 3s 2ms/step - loss: 0.3381 - accuracy: 0.9064 - val_loss: 0.3343 - val_accuracy: 0.9067\n",
            "Epoch 91/200\n",
            "1407/1407 [==============================] - 3s 2ms/step - loss: 0.3290 - accuracy: 0.9094 - val_loss: 0.3343 - val_accuracy: 0.9067\n",
            "Epoch 92/200\n",
            "1407/1407 [==============================] - 3s 2ms/step - loss: 0.3337 - accuracy: 0.9089 - val_loss: 0.3343 - val_accuracy: 0.9067\n",
            "Epoch 93/200\n",
            "1407/1407 [==============================] - 3s 2ms/step - loss: 0.3386 - accuracy: 0.9085 - val_loss: 0.3343 - val_accuracy: 0.9067\n",
            "Epoch 94/200\n",
            "1407/1407 [==============================] - 3s 2ms/step - loss: 0.3372 - accuracy: 0.9057 - val_loss: 0.3343 - val_accuracy: 0.9067\n",
            "Epoch 95/200\n",
            "1407/1407 [==============================] - 3s 2ms/step - loss: 0.3350 - accuracy: 0.9078 - val_loss: 0.3343 - val_accuracy: 0.9067\n",
            "Epoch 96/200\n",
            "1407/1407 [==============================] - 3s 2ms/step - loss: 0.3437 - accuracy: 0.9057 - val_loss: 0.3343 - val_accuracy: 0.9067\n",
            "Epoch 97/200\n",
            "1407/1407 [==============================] - 3s 2ms/step - loss: 0.3245 - accuracy: 0.9104 - val_loss: 0.3343 - val_accuracy: 0.9067\n",
            "Epoch 98/200\n",
            "1407/1407 [==============================] - 3s 2ms/step - loss: 0.3352 - accuracy: 0.9068 - val_loss: 0.3343 - val_accuracy: 0.9067\n",
            "Epoch 99/200\n",
            "1407/1407 [==============================] - 3s 2ms/step - loss: 0.3338 - accuracy: 0.9084 - val_loss: 0.3343 - val_accuracy: 0.9067\n",
            "Epoch 100/200\n",
            "1407/1407 [==============================] - 3s 2ms/step - loss: 0.3346 - accuracy: 0.9078 - val_loss: 0.3343 - val_accuracy: 0.9067\n",
            "Epoch 101/200\n",
            "1407/1407 [==============================] - 3s 2ms/step - loss: 0.3367 - accuracy: 0.9068 - val_loss: 0.3343 - val_accuracy: 0.9067\n",
            "Epoch 102/200\n",
            "1407/1407 [==============================] - 3s 2ms/step - loss: 0.3311 - accuracy: 0.9083 - val_loss: 0.3342 - val_accuracy: 0.9067\n",
            "Epoch 103/200\n",
            "1407/1407 [==============================] - 3s 2ms/step - loss: 0.3268 - accuracy: 0.9093 - val_loss: 0.3342 - val_accuracy: 0.9067\n",
            "Epoch 104/200\n",
            "1407/1407 [==============================] - 3s 2ms/step - loss: 0.3296 - accuracy: 0.9087 - val_loss: 0.3342 - val_accuracy: 0.9067\n",
            "Epoch 105/200\n",
            "1407/1407 [==============================] - 3s 2ms/step - loss: 0.3346 - accuracy: 0.9075 - val_loss: 0.3342 - val_accuracy: 0.9067\n",
            "Epoch 106/200\n",
            "1407/1407 [==============================] - 3s 2ms/step - loss: 0.3238 - accuracy: 0.9113 - val_loss: 0.3342 - val_accuracy: 0.9067\n",
            "Epoch 107/200\n",
            "1407/1407 [==============================] - 3s 2ms/step - loss: 0.3318 - accuracy: 0.9082 - val_loss: 0.3342 - val_accuracy: 0.9067\n",
            "Epoch 108/200\n",
            "1407/1407 [==============================] - 3s 2ms/step - loss: 0.3253 - accuracy: 0.9091 - val_loss: 0.3342 - val_accuracy: 0.9067\n",
            "Epoch 109/200\n",
            "1407/1407 [==============================] - 3s 2ms/step - loss: 0.3314 - accuracy: 0.9069 - val_loss: 0.3342 - val_accuracy: 0.9067\n",
            "Epoch 110/200\n",
            "1407/1407 [==============================] - 3s 2ms/step - loss: 0.3353 - accuracy: 0.9081 - val_loss: 0.3342 - val_accuracy: 0.9067\n",
            "Epoch 111/200\n",
            "1407/1407 [==============================] - 3s 2ms/step - loss: 0.3328 - accuracy: 0.9072 - val_loss: 0.3342 - val_accuracy: 0.9067\n",
            "Epoch 112/200\n",
            "1407/1407 [==============================] - 3s 2ms/step - loss: 0.3372 - accuracy: 0.9067 - val_loss: 0.3342 - val_accuracy: 0.9067\n",
            "Epoch 113/200\n",
            "1407/1407 [==============================] - 3s 2ms/step - loss: 0.3381 - accuracy: 0.9070 - val_loss: 0.3342 - val_accuracy: 0.9067\n",
            "Epoch 114/200\n",
            "1407/1407 [==============================] - 3s 2ms/step - loss: 0.3313 - accuracy: 0.9064 - val_loss: 0.3342 - val_accuracy: 0.9067\n",
            "Epoch 115/200\n",
            "1407/1407 [==============================] - 3s 2ms/step - loss: 0.3278 - accuracy: 0.9100 - val_loss: 0.3342 - val_accuracy: 0.9067\n",
            "Epoch 116/200\n",
            "1407/1407 [==============================] - 3s 2ms/step - loss: 0.3287 - accuracy: 0.9089 - val_loss: 0.3342 - val_accuracy: 0.9067\n",
            "Epoch 117/200\n",
            "1407/1407 [==============================] - 3s 2ms/step - loss: 0.3309 - accuracy: 0.9090 - val_loss: 0.3342 - val_accuracy: 0.9067\n",
            "Epoch 118/200\n",
            "1407/1407 [==============================] - 3s 2ms/step - loss: 0.3287 - accuracy: 0.9091 - val_loss: 0.3342 - val_accuracy: 0.9067\n",
            "Epoch 119/200\n",
            "1407/1407 [==============================] - 3s 2ms/step - loss: 0.3329 - accuracy: 0.9080 - val_loss: 0.3342 - val_accuracy: 0.9067\n",
            "Epoch 120/200\n",
            "1407/1407 [==============================] - 3s 2ms/step - loss: 0.3305 - accuracy: 0.9085 - val_loss: 0.3342 - val_accuracy: 0.9067\n",
            "Epoch 121/200\n",
            "1407/1407 [==============================] - 3s 2ms/step - loss: 0.3316 - accuracy: 0.9080 - val_loss: 0.3342 - val_accuracy: 0.9067\n",
            "Epoch 122/200\n",
            "1407/1407 [==============================] - 3s 2ms/step - loss: 0.3324 - accuracy: 0.9073 - val_loss: 0.3342 - val_accuracy: 0.9067\n",
            "Epoch 123/200\n",
            "1407/1407 [==============================] - 3s 2ms/step - loss: 0.3364 - accuracy: 0.9062 - val_loss: 0.3342 - val_accuracy: 0.9067\n",
            "Epoch 124/200\n",
            "1407/1407 [==============================] - 3s 2ms/step - loss: 0.3347 - accuracy: 0.9062 - val_loss: 0.3342 - val_accuracy: 0.9067\n",
            "Epoch 125/200\n",
            "1407/1407 [==============================] - 3s 2ms/step - loss: 0.3322 - accuracy: 0.9092 - val_loss: 0.3342 - val_accuracy: 0.9067\n",
            "Epoch 126/200\n",
            "1407/1407 [==============================] - 3s 2ms/step - loss: 0.3324 - accuracy: 0.9069 - val_loss: 0.3342 - val_accuracy: 0.9067\n",
            "Epoch 127/200\n",
            "1407/1407 [==============================] - 3s 2ms/step - loss: 0.3344 - accuracy: 0.9078 - val_loss: 0.3342 - val_accuracy: 0.9067\n",
            "Epoch 128/200\n",
            "1407/1407 [==============================] - 3s 2ms/step - loss: 0.3311 - accuracy: 0.9076 - val_loss: 0.3342 - val_accuracy: 0.9067\n",
            "Epoch 129/200\n",
            "1407/1407 [==============================] - 3s 2ms/step - loss: 0.3320 - accuracy: 0.9088 - val_loss: 0.3342 - val_accuracy: 0.9067\n",
            "Epoch 130/200\n",
            "1407/1407 [==============================] - 3s 2ms/step - loss: 0.3351 - accuracy: 0.9078 - val_loss: 0.3342 - val_accuracy: 0.9067\n",
            "Epoch 131/200\n",
            "1407/1407 [==============================] - 3s 2ms/step - loss: 0.3378 - accuracy: 0.9057 - val_loss: 0.3342 - val_accuracy: 0.9067\n",
            "Epoch 132/200\n",
            "1407/1407 [==============================] - 3s 2ms/step - loss: 0.3319 - accuracy: 0.9091 - val_loss: 0.3342 - val_accuracy: 0.9067\n",
            "Epoch 133/200\n",
            "1407/1407 [==============================] - 3s 2ms/step - loss: 0.3342 - accuracy: 0.9072 - val_loss: 0.3342 - val_accuracy: 0.9067\n",
            "Epoch 134/200\n",
            "1407/1407 [==============================] - 3s 2ms/step - loss: 0.3305 - accuracy: 0.9068 - val_loss: 0.3342 - val_accuracy: 0.9067\n",
            "Epoch 135/200\n",
            "1407/1407 [==============================] - 3s 2ms/step - loss: 0.3292 - accuracy: 0.9082 - val_loss: 0.3342 - val_accuracy: 0.9067\n",
            "Epoch 136/200\n",
            "1407/1407 [==============================] - 3s 2ms/step - loss: 0.3325 - accuracy: 0.9095 - val_loss: 0.3342 - val_accuracy: 0.9067\n",
            "Epoch 137/200\n",
            "1407/1407 [==============================] - 3s 2ms/step - loss: 0.3307 - accuracy: 0.9098 - val_loss: 0.3342 - val_accuracy: 0.9067\n",
            "Epoch 138/200\n",
            "1407/1407 [==============================] - 3s 2ms/step - loss: 0.3301 - accuracy: 0.9098 - val_loss: 0.3342 - val_accuracy: 0.9067\n",
            "Epoch 139/200\n",
            "1407/1407 [==============================] - 3s 2ms/step - loss: 0.3295 - accuracy: 0.9092 - val_loss: 0.3342 - val_accuracy: 0.9067\n",
            "Epoch 140/200\n",
            "1407/1407 [==============================] - 3s 2ms/step - loss: 0.3326 - accuracy: 0.9073 - val_loss: 0.3342 - val_accuracy: 0.9067\n",
            "Epoch 141/200\n",
            "1407/1407 [==============================] - 3s 2ms/step - loss: 0.3263 - accuracy: 0.9097 - val_loss: 0.3342 - val_accuracy: 0.9067\n",
            "Epoch 142/200\n",
            "1407/1407 [==============================] - 3s 2ms/step - loss: 0.3314 - accuracy: 0.9079 - val_loss: 0.3342 - val_accuracy: 0.9067\n",
            "Epoch 143/200\n",
            "1407/1407 [==============================] - 3s 2ms/step - loss: 0.3276 - accuracy: 0.9085 - val_loss: 0.3342 - val_accuracy: 0.9067\n",
            "Epoch 144/200\n",
            "1407/1407 [==============================] - 3s 2ms/step - loss: 0.3366 - accuracy: 0.9075 - val_loss: 0.3342 - val_accuracy: 0.9067\n",
            "Epoch 145/200\n",
            "1407/1407 [==============================] - 3s 2ms/step - loss: 0.3430 - accuracy: 0.9058 - val_loss: 0.3342 - val_accuracy: 0.9067\n",
            "Epoch 146/200\n",
            "1407/1407 [==============================] - 3s 2ms/step - loss: 0.3350 - accuracy: 0.9059 - val_loss: 0.3342 - val_accuracy: 0.9067\n",
            "Epoch 147/200\n",
            "1407/1407 [==============================] - 3s 2ms/step - loss: 0.3284 - accuracy: 0.9087 - val_loss: 0.3342 - val_accuracy: 0.9067\n",
            "Epoch 148/200\n",
            "1407/1407 [==============================] - 3s 2ms/step - loss: 0.3297 - accuracy: 0.9083 - val_loss: 0.3342 - val_accuracy: 0.9067\n",
            "Epoch 149/200\n",
            "1407/1407 [==============================] - 3s 2ms/step - loss: 0.3311 - accuracy: 0.9086 - val_loss: 0.3342 - val_accuracy: 0.9067\n",
            "Epoch 150/200\n",
            "1407/1407 [==============================] - 3s 2ms/step - loss: 0.3358 - accuracy: 0.9066 - val_loss: 0.3342 - val_accuracy: 0.9067\n",
            "Epoch 151/200\n",
            "1407/1407 [==============================] - 3s 2ms/step - loss: 0.3353 - accuracy: 0.9100 - val_loss: 0.3342 - val_accuracy: 0.9067\n",
            "Epoch 152/200\n",
            "1407/1407 [==============================] - 3s 2ms/step - loss: 0.3302 - accuracy: 0.9088 - val_loss: 0.3342 - val_accuracy: 0.9067\n",
            "Epoch 153/200\n",
            "1407/1407 [==============================] - 3s 2ms/step - loss: 0.3297 - accuracy: 0.9092 - val_loss: 0.3342 - val_accuracy: 0.9067\n",
            "Epoch 154/200\n",
            "1407/1407 [==============================] - 3s 2ms/step - loss: 0.3387 - accuracy: 0.9067 - val_loss: 0.3342 - val_accuracy: 0.9067\n",
            "Epoch 155/200\n",
            "1407/1407 [==============================] - 3s 2ms/step - loss: 0.3320 - accuracy: 0.9077 - val_loss: 0.3342 - val_accuracy: 0.9067\n",
            "Epoch 156/200\n",
            "1407/1407 [==============================] - 3s 2ms/step - loss: 0.3317 - accuracy: 0.9076 - val_loss: 0.3342 - val_accuracy: 0.9067\n",
            "Epoch 157/200\n",
            "1407/1407 [==============================] - 3s 2ms/step - loss: 0.3296 - accuracy: 0.9091 - val_loss: 0.3342 - val_accuracy: 0.9067\n",
            "Epoch 158/200\n",
            "1407/1407 [==============================] - 3s 2ms/step - loss: 0.3280 - accuracy: 0.9080 - val_loss: 0.3342 - val_accuracy: 0.9067\n",
            "Epoch 159/200\n",
            "1407/1407 [==============================] - 3s 2ms/step - loss: 0.3269 - accuracy: 0.9091 - val_loss: 0.3342 - val_accuracy: 0.9067\n",
            "Epoch 160/200\n",
            "1407/1407 [==============================] - 4s 3ms/step - loss: 0.3265 - accuracy: 0.9097 - val_loss: 0.3342 - val_accuracy: 0.9067\n",
            "Epoch 161/200\n",
            "1407/1407 [==============================] - 4s 3ms/step - loss: 0.3293 - accuracy: 0.9091 - val_loss: 0.3342 - val_accuracy: 0.9067\n",
            "Epoch 162/200\n",
            "1407/1407 [==============================] - 4s 2ms/step - loss: 0.3329 - accuracy: 0.9069 - val_loss: 0.3342 - val_accuracy: 0.9067\n",
            "Epoch 163/200\n",
            "1407/1407 [==============================] - 4s 3ms/step - loss: 0.3353 - accuracy: 0.9064 - val_loss: 0.3342 - val_accuracy: 0.9067\n",
            "Epoch 164/200\n",
            "1407/1407 [==============================] - 4s 3ms/step - loss: 0.3335 - accuracy: 0.9075 - val_loss: 0.3342 - val_accuracy: 0.9067\n",
            "Epoch 165/200\n",
            "1407/1407 [==============================] - 3s 2ms/step - loss: 0.3286 - accuracy: 0.9102 - val_loss: 0.3342 - val_accuracy: 0.9067\n",
            "Epoch 166/200\n",
            "1407/1407 [==============================] - 3s 2ms/step - loss: 0.3311 - accuracy: 0.9068 - val_loss: 0.3342 - val_accuracy: 0.9067\n",
            "Epoch 167/200\n",
            "1407/1407 [==============================] - 3s 2ms/step - loss: 0.3316 - accuracy: 0.9087 - val_loss: 0.3342 - val_accuracy: 0.9067\n",
            "Epoch 168/200\n",
            "1407/1407 [==============================] - 3s 2ms/step - loss: 0.3248 - accuracy: 0.9100 - val_loss: 0.3342 - val_accuracy: 0.9067\n",
            "Epoch 169/200\n",
            "1407/1407 [==============================] - 3s 2ms/step - loss: 0.3280 - accuracy: 0.9085 - val_loss: 0.3342 - val_accuracy: 0.9067\n",
            "Epoch 170/200\n",
            "1407/1407 [==============================] - 3s 2ms/step - loss: 0.3327 - accuracy: 0.9087 - val_loss: 0.3342 - val_accuracy: 0.9067\n",
            "Epoch 171/200\n",
            "1407/1407 [==============================] - 3s 2ms/step - loss: 0.3338 - accuracy: 0.9087 - val_loss: 0.3342 - val_accuracy: 0.9067\n",
            "Epoch 172/200\n",
            "1407/1407 [==============================] - 3s 2ms/step - loss: 0.3253 - accuracy: 0.9092 - val_loss: 0.3342 - val_accuracy: 0.9067\n",
            "Epoch 173/200\n",
            "1407/1407 [==============================] - 3s 2ms/step - loss: 0.3258 - accuracy: 0.9094 - val_loss: 0.3342 - val_accuracy: 0.9067\n",
            "Epoch 174/200\n",
            "1407/1407 [==============================] - 3s 2ms/step - loss: 0.3352 - accuracy: 0.9077 - val_loss: 0.3342 - val_accuracy: 0.9067\n",
            "Epoch 175/200\n",
            "1407/1407 [==============================] - 3s 2ms/step - loss: 0.3380 - accuracy: 0.9070 - val_loss: 0.3342 - val_accuracy: 0.9067\n",
            "Epoch 176/200\n",
            "1407/1407 [==============================] - 3s 2ms/step - loss: 0.3367 - accuracy: 0.9078 - val_loss: 0.3342 - val_accuracy: 0.9067\n",
            "Epoch 177/200\n",
            "1407/1407 [==============================] - 3s 2ms/step - loss: 0.3330 - accuracy: 0.9071 - val_loss: 0.3342 - val_accuracy: 0.9067\n",
            "Epoch 178/200\n",
            "1407/1407 [==============================] - 3s 2ms/step - loss: 0.3314 - accuracy: 0.9093 - val_loss: 0.3342 - val_accuracy: 0.9067\n",
            "Epoch 179/200\n",
            "1407/1407 [==============================] - 3s 2ms/step - loss: 0.3332 - accuracy: 0.9095 - val_loss: 0.3342 - val_accuracy: 0.9067\n",
            "Epoch 180/200\n",
            "1407/1407 [==============================] - 3s 2ms/step - loss: 0.3266 - accuracy: 0.9091 - val_loss: 0.3342 - val_accuracy: 0.9067\n",
            "Epoch 181/200\n",
            "1407/1407 [==============================] - 3s 2ms/step - loss: 0.3301 - accuracy: 0.9093 - val_loss: 0.3342 - val_accuracy: 0.9067\n",
            "Epoch 182/200\n",
            "1407/1407 [==============================] - 3s 2ms/step - loss: 0.3374 - accuracy: 0.9063 - val_loss: 0.3342 - val_accuracy: 0.9067\n",
            "Epoch 183/200\n",
            "1407/1407 [==============================] - 3s 2ms/step - loss: 0.3395 - accuracy: 0.9047 - val_loss: 0.3342 - val_accuracy: 0.9067\n",
            "Epoch 184/200\n",
            "1407/1407 [==============================] - 3s 2ms/step - loss: 0.3222 - accuracy: 0.9116 - val_loss: 0.3342 - val_accuracy: 0.9067\n",
            "Epoch 185/200\n",
            "1407/1407 [==============================] - 3s 2ms/step - loss: 0.3307 - accuracy: 0.9079 - val_loss: 0.3342 - val_accuracy: 0.9067\n",
            "Epoch 186/200\n",
            "1407/1407 [==============================] - 3s 2ms/step - loss: 0.3333 - accuracy: 0.9084 - val_loss: 0.3342 - val_accuracy: 0.9067\n",
            "Epoch 187/200\n",
            "1407/1407 [==============================] - 3s 2ms/step - loss: 0.3357 - accuracy: 0.9073 - val_loss: 0.3342 - val_accuracy: 0.9067\n",
            "Epoch 188/200\n",
            "1407/1407 [==============================] - 3s 2ms/step - loss: 0.3319 - accuracy: 0.9086 - val_loss: 0.3342 - val_accuracy: 0.9067\n",
            "Epoch 189/200\n",
            "1407/1407 [==============================] - 3s 2ms/step - loss: 0.3360 - accuracy: 0.9065 - val_loss: 0.3342 - val_accuracy: 0.9067\n",
            "Epoch 190/200\n",
            "1407/1407 [==============================] - 3s 2ms/step - loss: 0.3319 - accuracy: 0.9082 - val_loss: 0.3342 - val_accuracy: 0.9067\n",
            "Epoch 191/200\n",
            "1407/1407 [==============================] - 3s 2ms/step - loss: 0.3369 - accuracy: 0.9060 - val_loss: 0.3342 - val_accuracy: 0.9067\n",
            "Epoch 192/200\n",
            "1407/1407 [==============================] - 3s 2ms/step - loss: 0.3323 - accuracy: 0.9095 - val_loss: 0.3342 - val_accuracy: 0.9067\n",
            "Epoch 193/200\n",
            "1407/1407 [==============================] - 3s 2ms/step - loss: 0.3313 - accuracy: 0.9077 - val_loss: 0.3342 - val_accuracy: 0.9067\n"
          ],
          "name": "stdout"
        },
        {
          "output_type": "execute_result",
          "data": {
            "text/plain": [
              "<tensorflow.python.keras.callbacks.History at 0x7f0eccd00da0>"
            ]
          },
          "metadata": {
            "tags": []
          },
          "execution_count": 47
        }
      ]
    },
    {
      "cell_type": "markdown",
      "metadata": {
        "id": "TC4AkwHyG2Uk"
      },
      "source": [
        "Here we know the training dataset has 45k samples and a batch size of 32. So we need to train 1406.5 , approximately 1407 samples in each batch\n",
        "1407*32 = 45K should be equal to the number of data points in the training set\n",
        "\n",
        "Here we stop at epoch lower than 200 because the validation error is not improving any further\n",
        "\n"
      ]
    },
    {
      "cell_type": "markdown",
      "metadata": {
        "id": "aRntOjq8LlPr"
      },
      "source": [
        "### 7.TESTING THE MODEL ON THE TEST SET AND EXTRACTING RELEVANT METRICS"
      ]
    },
    {
      "cell_type": "code",
      "metadata": {
        "colab": {
          "base_uri": "https://localhost:8080/"
        },
        "id": "kxaFt425MyGJ",
        "outputId": "2dca2506-7cf4-48f6-a316-0d8cc2572bbe"
      },
      "source": [
        "model.load_weights(model_name) # here the weight we are produced during model training\n",
        "metrics = model.evaluate(X_test, Y_test_oh) # it will return the loss and metrics when we are testing the model # here we have categorical cross entropy here is loss and accuracy is the metrics\n",
        "#print(metrics) # in step 4 we stated that we wan to measure and monitor two metrics\n",
        "print(\"Categorical cross-entropy:\" , metrics[0])\n",
        "print(\"Accuracy:\" , metrics[1])\n"
      ],
      "execution_count": 48,
      "outputs": [
        {
          "output_type": "stream",
          "text": [
            "313/313 [==============================] - 0s 1ms/step - loss: 0.3301 - accuracy: 0.9102\n",
            "Categorical cross-entropy: 0.3300807774066925\n",
            "Accuracy: 0.9101999998092651\n"
          ],
          "name": "stdout"
        }
      ]
    },
    {
      "cell_type": "markdown",
      "metadata": {
        "id": "rI-oJYs2Smm_"
      },
      "source": [
        "#LOOKING AT THE WRONGLY CLASSIFIED IMAGES"
      ]
    },
    {
      "cell_type": "code",
      "metadata": {
        "colab": {
          "base_uri": "https://localhost:8080/",
          "height": 1000
        },
        "id": "Ojq8G2t3NWEJ",
        "outputId": "f9a0b10e-0ad2-4298-bebf-b65566e7bbfa"
      },
      "source": [
        "Y_pred = model.predict(X_test).argmax(axis = 1)# Here we are looking at the iamges and predicting the labels across the rows of the test set\n",
        "#print(Y_pred)\n",
        "# input is x_test and labels is being predicted\n",
        "# here we are predicting the class with the highest probability\n",
        "#printing the indexes where y_pred is not equal to y_test\n",
        "wrong_indexes = np.where(Y_pred !=Y_test)[0] #Predictions are differnet from the ground truth ie. test set\n",
        "#print(wrong_indexes)\n",
        "\n",
        "#print out a sample of indexes that have been incoorectly classified\n",
        " #looking at images that I want to identify incoorectly classified images so that I can understand where my model is unable to get correct results\n",
        "sample_indexes = np.random.choice (np.arange(wrong_indexes.size, dtype  = int), size = 30, replace = False ) #chosing 30 cases when the classification did not work\n",
        " # 30 wrong images that are not repeasted\n",
        " #above we show a subset of indexes\n",
        "#print(sample_indexes)\n",
        "#polotting cases when the classification failed\n",
        "plt.figure(figsize = (24,18))\n",
        "for (ii,jj) in enumerate(sample_indexes): # looking through 30 wrong images # index  is ii and position is jj\n",
        "   plt.subplot(5,6,ii+1) # each figure will have a different subplot. Each subplot wiull have 5 rows and 6 columns starting at index 1 (ii+1)\n",
        "   plt.imshow(X_test[wrong_indexes[jj]], cmap = 'gray') # the image that i want to show is the wrong image at position jj\n",
        "   plt.title(\"Label %d, predicted label :%d\"%(Y_test[wrong_indexes[jj]], Y_pred[wrong_indexes[jj]]))\n",
        "   #print(ii) # index is 0 to 30 in the sample dataset\n",
        "   #print(jj) #position in teh sample daatset( where the image is wrongly classfiied) where teh index position is above. It can eb anything ebwteen 0 to 10k ie.e. size of test sampel dataset\n",
        "   #print(wrong_indexes[jj]) #finding the indexes in the TEST SET at those positions for the wrong iamges\n",
        "   #Here we r print out teh image if what was preducted by x_test at that index position\n",
        "plt.show()\n",
        "\n"
      ],
      "execution_count": null,
      "outputs": [
        {
          "output_type": "display_data",
          "data": {
            "image/png": "[encoded data removed]",
            "text/plain": [
              "<Figure size 1728x1296 with 30 Axes>"
            ]
          },
          "metadata": {
            "tags": [],
            "needs_background": "light"
          }
        }
      ]
    },
    {
      "cell_type": "markdown",
      "metadata": {
        "id": "LqNrAw_ng0nD"
      },
      "source": [
        "**CONCLUSION**\n",
        "- The accuracy of test dataset is 91%.\n",
        "- The Categorical cross-entropy is 0.33\n",
        "- Three callbacks were defined in the dataset\n"
      ]
    }
  ]
}