{
  "nbformat": 4,
  "nbformat_minor": 0,
  "metadata": {
    "colab": {
      "name": "Final_ MNIST_dataset_CNN.ipynb",
      "provenance": [],
      "collapsed_sections": [],
      "toc_visible": true
    },
    "kernelspec": {
      "name": "python3",
      "display_name": "Python 3"
    }
  },
  "cells": [
    {
      "cell_type": "markdown",
      "metadata": {
        "id": "pnrhrTeEPqrd"
      },
      "source": [
        "MNIST dataset"
      ]
    },
    {
      "cell_type": "code",
      "metadata": {
        "id": "me6ok1-CnuSz"
      },
      "source": [
        "%matplotlib inline\n",
        "import numpy as np\n",
        "import matplotlib.pylab as plt\n",
        "import tensorflow as tf\n"
      ],
      "execution_count": 1,
      "outputs": []
    },
    {
      "cell_type": "markdown",
      "metadata": {
        "id": "YmnoZbwTtKJh"
      },
      "source": [
        "Shown below is the MNIST dataset"
      ]
    },
    {
      "cell_type": "code",
      "metadata": {
        "colab": {
          "base_uri": "https://localhost:8080/"
        },
        "id": "_b8nhf9znwn5",
        "outputId": "00d646fc-d50f-4f2e-fa33-03050500f9b7"
      },
      "source": [
        "data_mnist = tf.keras.datasets.mnist.load_data(path=\"mnist.npz\")\n",
        "data_mnist"
      ],
      "execution_count": 2,
      "outputs": [
        {
          "output_type": "stream",
          "text": [
            "Downloading data from https://storage.googleapis.com/tensorflow/tf-keras-datasets/mnist.npz\n",
            "11493376/11490434 [==============================] - 0s 0us/step\n"
          ],
          "name": "stdout"
        },
        {
          "output_type": "execute_result",
          "data": {
            "text/plain": [
              "((array([[[0, 0, 0, ..., 0, 0, 0],\n",
              "          [0, 0, 0, ..., 0, 0, 0],\n",
              "          [0, 0, 0, ..., 0, 0, 0],\n",
              "          ...,\n",
              "          [0, 0, 0, ..., 0, 0, 0],\n",
              "          [0, 0, 0, ..., 0, 0, 0],\n",
              "          [0, 0, 0, ..., 0, 0, 0]],\n",
              "  \n",
              "         [[0, 0, 0, ..., 0, 0, 0],\n",
              "          [0, 0, 0, ..., 0, 0, 0],\n",
              "          [0, 0, 0, ..., 0, 0, 0],\n",
              "          ...,\n",
              "          [0, 0, 0, ..., 0, 0, 0],\n",
              "          [0, 0, 0, ..., 0, 0, 0],\n",
              "          [0, 0, 0, ..., 0, 0, 0]],\n",
              "  \n",
              "         [[0, 0, 0, ..., 0, 0, 0],\n",
              "          [0, 0, 0, ..., 0, 0, 0],\n",
              "          [0, 0, 0, ..., 0, 0, 0],\n",
              "          ...,\n",
              "          [0, 0, 0, ..., 0, 0, 0],\n",
              "          [0, 0, 0, ..., 0, 0, 0],\n",
              "          [0, 0, 0, ..., 0, 0, 0]],\n",
              "  \n",
              "         ...,\n",
              "  \n",
              "         [[0, 0, 0, ..., 0, 0, 0],\n",
              "          [0, 0, 0, ..., 0, 0, 0],\n",
              "          [0, 0, 0, ..., 0, 0, 0],\n",
              "          ...,\n",
              "          [0, 0, 0, ..., 0, 0, 0],\n",
              "          [0, 0, 0, ..., 0, 0, 0],\n",
              "          [0, 0, 0, ..., 0, 0, 0]],\n",
              "  \n",
              "         [[0, 0, 0, ..., 0, 0, 0],\n",
              "          [0, 0, 0, ..., 0, 0, 0],\n",
              "          [0, 0, 0, ..., 0, 0, 0],\n",
              "          ...,\n",
              "          [0, 0, 0, ..., 0, 0, 0],\n",
              "          [0, 0, 0, ..., 0, 0, 0],\n",
              "          [0, 0, 0, ..., 0, 0, 0]],\n",
              "  \n",
              "         [[0, 0, 0, ..., 0, 0, 0],\n",
              "          [0, 0, 0, ..., 0, 0, 0],\n",
              "          [0, 0, 0, ..., 0, 0, 0],\n",
              "          ...,\n",
              "          [0, 0, 0, ..., 0, 0, 0],\n",
              "          [0, 0, 0, ..., 0, 0, 0],\n",
              "          [0, 0, 0, ..., 0, 0, 0]]], dtype=uint8),\n",
              "  array([5, 0, 4, ..., 5, 6, 8], dtype=uint8)),\n",
              " (array([[[0, 0, 0, ..., 0, 0, 0],\n",
              "          [0, 0, 0, ..., 0, 0, 0],\n",
              "          [0, 0, 0, ..., 0, 0, 0],\n",
              "          ...,\n",
              "          [0, 0, 0, ..., 0, 0, 0],\n",
              "          [0, 0, 0, ..., 0, 0, 0],\n",
              "          [0, 0, 0, ..., 0, 0, 0]],\n",
              "  \n",
              "         [[0, 0, 0, ..., 0, 0, 0],\n",
              "          [0, 0, 0, ..., 0, 0, 0],\n",
              "          [0, 0, 0, ..., 0, 0, 0],\n",
              "          ...,\n",
              "          [0, 0, 0, ..., 0, 0, 0],\n",
              "          [0, 0, 0, ..., 0, 0, 0],\n",
              "          [0, 0, 0, ..., 0, 0, 0]],\n",
              "  \n",
              "         [[0, 0, 0, ..., 0, 0, 0],\n",
              "          [0, 0, 0, ..., 0, 0, 0],\n",
              "          [0, 0, 0, ..., 0, 0, 0],\n",
              "          ...,\n",
              "          [0, 0, 0, ..., 0, 0, 0],\n",
              "          [0, 0, 0, ..., 0, 0, 0],\n",
              "          [0, 0, 0, ..., 0, 0, 0]],\n",
              "  \n",
              "         ...,\n",
              "  \n",
              "         [[0, 0, 0, ..., 0, 0, 0],\n",
              "          [0, 0, 0, ..., 0, 0, 0],\n",
              "          [0, 0, 0, ..., 0, 0, 0],\n",
              "          ...,\n",
              "          [0, 0, 0, ..., 0, 0, 0],\n",
              "          [0, 0, 0, ..., 0, 0, 0],\n",
              "          [0, 0, 0, ..., 0, 0, 0]],\n",
              "  \n",
              "         [[0, 0, 0, ..., 0, 0, 0],\n",
              "          [0, 0, 0, ..., 0, 0, 0],\n",
              "          [0, 0, 0, ..., 0, 0, 0],\n",
              "          ...,\n",
              "          [0, 0, 0, ..., 0, 0, 0],\n",
              "          [0, 0, 0, ..., 0, 0, 0],\n",
              "          [0, 0, 0, ..., 0, 0, 0]],\n",
              "  \n",
              "         [[0, 0, 0, ..., 0, 0, 0],\n",
              "          [0, 0, 0, ..., 0, 0, 0],\n",
              "          [0, 0, 0, ..., 0, 0, 0],\n",
              "          ...,\n",
              "          [0, 0, 0, ..., 0, 0, 0],\n",
              "          [0, 0, 0, ..., 0, 0, 0],\n",
              "          [0, 0, 0, ..., 0, 0, 0]]], dtype=uint8),\n",
              "  array([7, 2, 1, ..., 4, 5, 6], dtype=uint8)))"
            ]
          },
          "metadata": {
            "tags": []
          },
          "execution_count": 2
        }
      ]
    },
    {
      "cell_type": "markdown",
      "metadata": {
        "id": "LFlfanNU7wcD"
      },
      "source": [
        ""
      ]
    },
    {
      "cell_type": "markdown",
      "metadata": {
        "id": "063x2PWB7V6j"
      },
      "source": [
        "#1. LOADING THE DATASET  AND EXPLORING IT \n",
        "Splittint the entire dataset into testing and developmental dataset"
      ]
    },
    {
      "cell_type": "code",
      "metadata": {
        "colab": {
          "base_uri": "https://localhost:8080/"
        },
        "id": "K4gFB98wnwNX",
        "outputId": "8a1db48e-5dc2-4e7b-9e36-d67839a1c1b1"
      },
      "source": [
        "(X_dev,Y_dev),(X_test,Y_test) = tf.keras.datasets.mnist.load_data()\n",
        "print(\"Developmental set\")\n",
        "print(X_dev.shape)\n",
        "print(Y_dev.shape)\n",
        "\n",
        "\n",
        "print(\"Testing set\")\n",
        "print(X_test.shape)\n",
        "print(Y_test.shape)"
      ],
      "execution_count": 3,
      "outputs": [
        {
          "output_type": "stream",
          "text": [
            "Developmental set\n",
            "(60000, 28, 28)\n",
            "(60000,)\n",
            "Testing set\n",
            "(10000, 28, 28)\n",
            "(10000,)\n"
          ],
          "name": "stdout"
        }
      ]
    },
    {
      "cell_type": "markdown",
      "metadata": {
        "id": "8qSgvhkip51z"
      },
      "source": [
        "The devlopmental dataset has 60k rows with images of 28 pixel by 28 pixel\n",
        "\n",
        "The testing dataset has 10k rows with images of 28 pixel by 28 pixel\n"
      ]
    },
    {
      "cell_type": "markdown",
      "metadata": {
        "id": "sKmQMjoa8gLF"
      },
      "source": [
        "##Exploring the classes in the dataset"
      ]
    },
    {
      "cell_type": "code",
      "metadata": {
        "colab": {
          "base_uri": "https://localhost:8080/"
        },
        "id": "tPw2zydRqnX-",
        "outputId": "9a0a930c-42ea-4bce-a938-185d45eb26ff"
      },
      "source": [
        "print(\"Number of classes in the developmental dataset\")\n",
        "print(np.unique(Y_dev))\n",
        "\n",
        "print(\"Number of classes in the testing dataset\")\n",
        "print(np.unique(Y_test))"
      ],
      "execution_count": 4,
      "outputs": [
        {
          "output_type": "stream",
          "text": [
            "Number of classes in the developmental dataset\n",
            "[0 1 2 3 4 5 6 7 8 9]\n",
            "Number of classes in the testing dataset\n",
            "[0 1 2 3 4 5 6 7 8 9]\n"
          ],
          "name": "stdout"
        }
      ]
    },
    {
      "cell_type": "markdown",
      "metadata": {
        "id": "QWS4z23Zqlfu"
      },
      "source": [
        "There are 10 unique classes in the dataset\n"
      ]
    },
    {
      "cell_type": "markdown",
      "metadata": {
        "id": "NA7ukw8rwu8u"
      },
      "source": [
        "##HISTOGRAM OF THE DEVELOPMENTAL DATASET"
      ]
    },
    {
      "cell_type": "code",
      "metadata": {
        "colab": {
          "base_uri": "https://localhost:8080/",
          "height": 281
        },
        "id": "wqslihIWsEbJ",
        "outputId": "0287c0ee-84ba-4a8d-8262-0042d92e02c5"
      },
      "source": [
        "plt.figure()\n",
        "plt.hist(Y_dev,bins = range(0,11))#since the numbers range from 0 to 10\n",
        "plt.xlabel(\"Labels\")\n",
        "plt.ylabel(\"Frequency\")\n",
        "plt.show()"
      ],
      "execution_count": 5,
      "outputs": [
        {
          "output_type": "display_data",
          "data": {
            "image/png": "[encoded data removed]",
            "text/plain": [
              "<Figure size 432x288 with 1 Axes>"
            ]
          },
          "metadata": {
            "tags": [],
            "needs_background": "light"
          }
        }
      ]
    },
    {
      "cell_type": "markdown",
      "metadata": {
        "id": "xVSSn1upwZHx"
      },
      "source": [
        "The propositions of labels in the developmental datset depict a uniform distribtion "
      ]
    },
    {
      "cell_type": "markdown",
      "metadata": {
        "id": "nrlcqqzQvjk4"
      },
      "source": [
        "##SPLITTING DEVELOPMENTAL SET INTO TRAIN AND VALIDATION SET"
      ]
    },
    {
      "cell_type": "code",
      "metadata": {
        "colab": {
          "base_uri": "https://localhost:8080/"
        },
        "id": "EMgcslTYumKc",
        "outputId": "7650bf84-57e1-408a-a152-c9d15200058a"
      },
      "source": [
        "indexes = np.arange(Y_dev.size ,dtype = int) #creating an array of all the labels in the developmental set\n",
        "#size of the samples in the development set, type\n",
        "np.random.shuffle(indexes) # shuffling the indexes\n",
        "X_dev = X_dev[indexes]\n",
        "Y_dev = Y_dev[indexes]\n",
        "# need to shuffle them in a syncoryzed manner so that the x and y correspond to one another\n",
        "\n",
        "#DEFINING THE SPLIT RATIO\n",
        "nsplit = int(0.75*Y_dev.size) # split ratio of the developmental dataset\n",
        "#splitting data into 75% developmental set and 25% test set\n",
        "\n",
        "X_train = X_dev[:nsplit]\n",
        "Y_train = Y_dev[:nsplit]\n",
        "\n",
        "X_val = X_dev[nsplit:]\n",
        "Y_val = Y_dev[nsplit:]\n",
        "\n",
        "print(\"Samples in training set\")\n",
        "print(X_train.shape)\n",
        "\n",
        "print(\"Samples in validation set\")\n",
        "print(X_val.shape)"
      ],
      "execution_count": 6,
      "outputs": [
        {
          "output_type": "stream",
          "text": [
            "Samples in training set\n",
            "(45000, 28, 28)\n",
            "Samples in validation set\n",
            "(15000, 28, 28)\n"
          ],
          "name": "stdout"
        }
      ]
    },
    {
      "cell_type": "markdown",
      "metadata": {
        "id": "FdCHOgE_zwy9"
      },
      "source": [
        "From 60k samples in the training set 45k went to training set and 15k went to validation set"
      ]
    },
    {
      "cell_type": "markdown",
      "metadata": {
        "id": "vwh1SIbb-FIJ"
      },
      "source": [
        "##DEPICTING BASIC INFORMATION ABOUT THE DATASET"
      ]
    },
    {
      "cell_type": "code",
      "metadata": {
        "colab": {
          "base_uri": "https://localhost:8080/"
        },
        "id": "zHAHXvPi0Hai",
        "outputId": "b7a16948-6177-4124-f307-3dff7bb64d1a"
      },
      "source": [
        "print(\"Training dataset info\")\n",
        "print(X_train.min(), X_train.max(), X_train.mean(),X_train.std())\n",
        "\n",
        "print(\"--------------------------------------\")\n",
        "print(\"Validation dataset info\")\n",
        "print(X_val.min(), X_val.max(), X_val.mean(),X_val.std())"
      ],
      "execution_count": 7,
      "outputs": [
        {
          "output_type": "stream",
          "text": [
            "Training dataset info\n",
            "0 255 33.36056865079365 78.61502888368025\n",
            "--------------------------------------\n",
            "Validation dataset info\n",
            "0 255 33.19197984693878 78.42456447683483\n"
          ],
          "name": "stdout"
        }
      ]
    },
    {
      "cell_type": "markdown",
      "metadata": {
        "id": "Xn6xzU4p0_Nx"
      },
      "source": [
        "Here we see the basic information aboutr the dataset\n",
        "In the trainining dataset the we see the min,max, mean and standard deviation are 0, 255, 33 and 78 respectively\n",
        "\n",
        "In the validation dataset the we see the min,max, mean and standard deviation are 0, 255, 33 and 79 respectively\n",
        "\n",
        "Both the values seem to be close ie. the data has been shuffled well"
      ]
    },
    {
      "cell_type": "markdown",
      "metadata": {
        "id": "CLkD2WfB1mAV"
      },
      "source": [
        "#2. DATA SCALING"
      ]
    },
    {
      "cell_type": "code",
      "metadata": {
        "id": "vhvTQsAJ1gcA"
      },
      "source": [
        "norm_type = 0 #0 ---> min_max normalization , 1----> standardization (mean/std)\n",
        "\n",
        "if norm_type == 0:\n",
        "  X_train = X_train/255\n",
        "  X_val = X_val/255\n",
        "  X_test = X_test/255\n",
        "elif norm_type == 1:  \n",
        "  train_mean = X_train.mean()\n",
        "  train_std = X_train.std()\n",
        "  X_train = X_train -train_mean /train_std\n",
        "  X_val = X_val -train_mean /train_std\n",
        "  X_test = X_test -train_mean /train_std  \n",
        "else:\n",
        "  pass # no normalization at all  "
      ],
      "execution_count": 8,
      "outputs": []
    },
    {
      "cell_type": "markdown",
      "metadata": {
        "id": "uW_WCJ443Od3"
      },
      "source": [
        "#3.One Hot Encoding"
      ]
    },
    {
      "cell_type": "code",
      "metadata": {
        "colab": {
          "base_uri": "https://localhost:8080/"
        },
        "id": "H24ioKXH3Sy7",
        "outputId": "3204d7f9-ddda-491e-eea3-b2b1e6b9b34d"
      },
      "source": [
        "Y_train_oh = tf.keras.utils.to_categorical(Y_train)\n",
        "Y_val_oh = tf.keras.utils.to_categorical(Y_val)\n",
        "Y_test_oh = tf.keras.utils.to_categorical(Y_test)\n",
        "\n",
        "print(\"First 5 samples of the training dataset\")\n",
        "print (Y_train[0:5])\n",
        "\n",
        "print(\"First 5 one hot encoded samples of the training dataset\")\n",
        "print (Y_train_oh[0:5])"
      ],
      "execution_count": 15,
      "outputs": [
        {
          "output_type": "stream",
          "text": [
            "First 5 samples of the training dataset\n",
            "[6 9 7 5 8]\n",
            "First 5 one hot encoded samples of the training dataset\n",
            "[[0. 0. 0. 0. 0. 0. 1. 0. 0. 0.]\n",
            " [0. 0. 0. 0. 0. 0. 0. 0. 0. 1.]\n",
            " [0. 0. 0. 0. 0. 0. 0. 1. 0. 0.]\n",
            " [0. 0. 0. 0. 0. 1. 0. 0. 0. 0.]\n",
            " [0. 0. 0. 0. 0. 0. 0. 0. 1. 0.]]\n"
          ],
          "name": "stdout"
        }
      ]
    },
    {
      "cell_type": "markdown",
      "metadata": {
        "id": "Qa9SSjr7_fp7"
      },
      "source": [
        "It seems that one hot encoding has been done correctly"
      ]
    },
    {
      "cell_type": "markdown",
      "metadata": {
        "id": "pPMWX_Rs5NHp"
      },
      "source": [
        "#4.Define your model,cost function, optimizer, learning rate"
      ]
    },
    {
      "cell_type": "code",
      "metadata": {
        "id": "1YNZxz_p5UGd"
      },
      "source": [
        "def my_model(ishape= (28,28,1), k = 10 , lr = 1e-4): # grey image has 1 channel and a RGB image is 3# k or classes is 10 \n",
        "    input_model = tf.keras.layers.Input(shape = ishape) # input has no paramerters\n",
        "    l1 = tf.keras.layers.Conv2D(32,(3,3), activation = 'relu' ) (input_model) # Conv2D as we r woking with 2d images , # number of filters is 32 # kernal size is 3 x 3\n",
        " #number of paramaters = filter size x number of filters x channel of previous layer is euql ato bias of previous layer  + bias is equal to number of filers = 3 x 3 x 32 x 1 + 32 (# channels in input are 1 as it is a white and black image) ( bias is equal to 32 since each convonution filter has a bias term)\n",
        "    l2 = tf.keras.layers.Conv2D(32,(3,3), activation = 'relu' ) (l1) # 32 filters assumed  # 32 x 3 x3 x32 + 32 (# output of previous layer will have 32 channels )\n",
        "    l3 = tf.keras.layers.MaxPool2D(2,2) (l2) # here we chose a pooling size of 2 x 2 and max pooling has no parameters\n",
        "    l4 = tf.keras.layers.Conv2D(64,(3,3), activation = 'relu' ) (l3) # after max pooling iamges is smaller and having that much filters is not that expensive # 3x3 x64x 32 + 64 (bias is equal to number of filters )\n",
        "    l5 = tf.keras.layers.Conv2D(64,(3,3), activation = 'relu' ) (l4) # 64 filters assumed  # 64 x 3 x3 x64 + 64\n",
        "    l6 = tf.keras.layers.MaxPool2D(2,2) (l5) # here we chose a pooling size of 2 x 2 and max pooling has no parameters\n",
        "    flat = tf.keras.layers.Flatten()(l6) # before we move to fcnn we need to perform flattening\n",
        "    out = tf.keras.layers.Dense(10, activation = 'softmax')(flat) # 1o classes\n",
        "    model = tf.keras.models.Model(inputs = input_model, outputs = out)\n",
        "    model.compile(optimizer = tf.keras.optimizers.Adam(lr), loss = 'categorical_crossentropy', metrics = ['accuracy'])\n",
        "    return model\n",
        "\n",
        "#NEW FOR CNN\n",
        "\n",
        "\n",
        "\n"
      ],
      "execution_count": 9,
      "outputs": []
    },
    {
      "cell_type": "code",
      "metadata": {
        "colab": {
          "base_uri": "https://localhost:8080/"
        },
        "id": "EKZLZpNMXsqK",
        "outputId": "b5b0670f-f3be-480f-c27a-ed087e9d12fd"
      },
      "source": [
        "model = my_model()\n",
        "print(model.summary())\n"
      ],
      "execution_count": 10,
      "outputs": [
        {
          "output_type": "stream",
          "text": [
            "Model: \"model\"\n",
            "_________________________________________________________________\n",
            "Layer (type)                 Output Shape              Param #   \n",
            "=================================================================\n",
            "input_1 (InputLayer)         [(None, 28, 28, 1)]       0         \n",
            "_________________________________________________________________\n",
            "conv2d (Conv2D)              (None, 26, 26, 32)        320       \n",
            "_________________________________________________________________\n",
            "conv2d_1 (Conv2D)            (None, 24, 24, 32)        9248      \n",
            "_________________________________________________________________\n",
            "max_pooling2d (MaxPooling2D) (None, 12, 12, 32)        0         \n",
            "_________________________________________________________________\n",
            "conv2d_2 (Conv2D)            (None, 10, 10, 64)        18496     \n",
            "_________________________________________________________________\n",
            "conv2d_3 (Conv2D)            (None, 8, 8, 64)          36928     \n",
            "_________________________________________________________________\n",
            "max_pooling2d_1 (MaxPooling2 (None, 4, 4, 64)          0         \n",
            "_________________________________________________________________\n",
            "flatten (Flatten)            (None, 1024)              0         \n",
            "_________________________________________________________________\n",
            "dense (Dense)                (None, 10)                10250     \n",
            "=================================================================\n",
            "Total params: 75,242\n",
            "Trainable params: 75,242\n",
            "Non-trainable params: 0\n",
            "_________________________________________________________________\n",
            "None\n"
          ],
          "name": "stdout"
        }
      ]
    },
    {
      "cell_type": "markdown",
      "metadata": {
        "id": "L30x2-t49deI"
      },
      "source": [
        "#5. Defining 3 callbacks (callbacks means that if the model is not improving it will stop)"
      ]
    },
    {
      "cell_type": "code",
      "metadata": {
        "id": "rVjh_y9H9pCN"
      },
      "source": [
        "model_name = \"best_model_mnist.h5\"\n",
        "#CALLBACK - 1 - early_stop\n",
        "early_stop = tf.keras.callbacks.EarlyStopping(monitor = 'val_loss' , patience = 20) # if for 20 epochs the val_loss does not improve the training is going to be intereppupted\n",
        "#patience is how long the model is going to train without intereppupting\n",
        "\n",
        "#CALLBACK - 2 - monitor\n",
        "monitor = tf.keras.callbacks.ModelCheckpoint (model_name, monitor = 'val_loss',save_best_only = True , save_weights_only = True )\n",
        "# you save the best model and the weights\n",
        "#the callback is going the keep on chekcing the validation error and if teh validation error decreases tehn we will save the model as the best model\n",
        "# mode is whether u wabnt to save the minimum or maximum value of teh cost function, we are not defining mode as it is automaticcally defined defined by tf\n",
        "\n",
        "#CALLBACK - 3 - lr_schedule\n",
        "def scheduler(epoch, lr):\n",
        "  if epoch%10==0:  #every 10 epoch reduce the learning rate by a factor of 2 # 10 here use some other number elsewhere\n",
        "    lr = lr/2\n",
        "  return lr\n",
        "  \n",
        "lr_schedule = tf.keras.callbacks.LearningRateScheduler(scheduler)# definding the callback"
      ],
      "execution_count": 16,
      "outputs": []
    },
    {
      "cell_type": "markdown",
      "metadata": {
        "id": "05Mr77SGG2qd"
      },
      "source": [
        "TRAINING THE MODEL"
      ]
    },
    {
      "cell_type": "code",
      "metadata": {
        "colab": {
          "base_uri": "https://localhost:8080/"
        },
        "id": "w8v9NtQUG_QO",
        "outputId": "baeadaf9-e144-430c-f199-d37c2b7415e6"
      },
      "source": [
        "model= my_model() #model is calling the model function that was defined in step 4\n",
        "#fit my model\n",
        "model.fit(X_train[:,:,:,np.newaxis],Y_train_oh,batch_size = 32, epochs=  200, verbose = 1, callbacks = [early_stop, monitor, lr_schedule], validation_data = (X_val,Y_val_oh), shuffle = True)\n",
        "#NEW FOR CNN - X-train representation is number of samples ,size of the image , number of channels , here we have only one channel so we add np.newaxis\n",
        "#larger batches take longer to train and smaller batch sizes can train faster\n",
        "#graident approxinmation for a small batch size may not be that good\n",
        "# batch_size is the number of samples taht we use to estiamet teh gradient before taking one step\n",
        "#shuffle ie.e batches that u snet to the GPU are shuffled"
      ],
      "execution_count": 17,
      "outputs": [
        {
          "output_type": "stream",
          "text": [
            "Epoch 1/200\n",
            "1407/1407 [==============================] - 113s 80ms/step - loss: 1.1637 - accuracy: 0.6908 - val_loss: 0.2236 - val_accuracy: 0.9336\n",
            "Epoch 2/200\n",
            "1407/1407 [==============================] - 113s 80ms/step - loss: 0.2018 - accuracy: 0.9404 - val_loss: 0.1408 - val_accuracy: 0.9563\n",
            "Epoch 3/200\n",
            "1407/1407 [==============================] - 113s 80ms/step - loss: 0.1349 - accuracy: 0.9610 - val_loss: 0.1051 - val_accuracy: 0.9675\n",
            "Epoch 4/200\n",
            "1407/1407 [==============================] - 115s 82ms/step - loss: 0.1013 - accuracy: 0.9700 - val_loss: 0.0904 - val_accuracy: 0.9709\n",
            "Epoch 5/200\n",
            "1407/1407 [==============================] - 113s 80ms/step - loss: 0.0815 - accuracy: 0.9751 - val_loss: 0.0790 - val_accuracy: 0.9754\n",
            "Epoch 6/200\n",
            "1407/1407 [==============================] - 112s 80ms/step - loss: 0.0726 - accuracy: 0.9782 - val_loss: 0.0706 - val_accuracy: 0.9775\n",
            "Epoch 7/200\n",
            "1407/1407 [==============================] - 114s 81ms/step - loss: 0.0638 - accuracy: 0.9806 - val_loss: 0.0671 - val_accuracy: 0.9787\n",
            "Epoch 8/200\n",
            "1407/1407 [==============================] - 113s 81ms/step - loss: 0.0577 - accuracy: 0.9823 - val_loss: 0.0632 - val_accuracy: 0.9809\n",
            "Epoch 9/200\n",
            "1407/1407 [==============================] - 116s 82ms/step - loss: 0.0555 - accuracy: 0.9829 - val_loss: 0.0600 - val_accuracy: 0.9811\n",
            "Epoch 10/200\n",
            "1407/1407 [==============================] - 115s 82ms/step - loss: 0.0491 - accuracy: 0.9852 - val_loss: 0.0568 - val_accuracy: 0.9828\n",
            "Epoch 11/200\n",
            "1407/1407 [==============================] - 115s 82ms/step - loss: 0.0431 - accuracy: 0.9869 - val_loss: 0.0541 - val_accuracy: 0.9837\n",
            "Epoch 12/200\n",
            "1407/1407 [==============================] - 116s 83ms/step - loss: 0.0415 - accuracy: 0.9871 - val_loss: 0.0548 - val_accuracy: 0.9835\n",
            "Epoch 13/200\n",
            "1407/1407 [==============================] - 117s 83ms/step - loss: 0.0367 - accuracy: 0.9890 - val_loss: 0.0535 - val_accuracy: 0.9840\n",
            "Epoch 14/200\n",
            "1407/1407 [==============================] - 117s 83ms/step - loss: 0.0381 - accuracy: 0.9877 - val_loss: 0.0504 - val_accuracy: 0.9851\n",
            "Epoch 15/200\n",
            "1407/1407 [==============================] - 117s 83ms/step - loss: 0.0357 - accuracy: 0.9893 - val_loss: 0.0519 - val_accuracy: 0.9843\n",
            "Epoch 16/200\n",
            "1407/1407 [==============================] - 117s 83ms/step - loss: 0.0378 - accuracy: 0.9889 - val_loss: 0.0509 - val_accuracy: 0.9845\n",
            "Epoch 17/200\n",
            "1407/1407 [==============================] - 117s 83ms/step - loss: 0.0335 - accuracy: 0.9903 - val_loss: 0.0503 - val_accuracy: 0.9851\n",
            "Epoch 18/200\n",
            "1407/1407 [==============================] - 117s 83ms/step - loss: 0.0320 - accuracy: 0.9906 - val_loss: 0.0509 - val_accuracy: 0.9853\n",
            "Epoch 19/200\n",
            "1407/1407 [==============================] - 117s 83ms/step - loss: 0.0289 - accuracy: 0.9918 - val_loss: 0.0491 - val_accuracy: 0.9853\n",
            "Epoch 20/200\n",
            "1407/1407 [==============================] - 119s 85ms/step - loss: 0.0275 - accuracy: 0.9919 - val_loss: 0.0511 - val_accuracy: 0.9851\n",
            "Epoch 21/200\n",
            "1407/1407 [==============================] - 118s 84ms/step - loss: 0.0266 - accuracy: 0.9919 - val_loss: 0.0463 - val_accuracy: 0.9867\n",
            "Epoch 22/200\n",
            "1407/1407 [==============================] - 118s 84ms/step - loss: 0.0255 - accuracy: 0.9928 - val_loss: 0.0469 - val_accuracy: 0.9859\n",
            "Epoch 23/200\n",
            "1407/1407 [==============================] - 118s 84ms/step - loss: 0.0242 - accuracy: 0.9931 - val_loss: 0.0480 - val_accuracy: 0.9863\n",
            "Epoch 24/200\n",
            "1407/1407 [==============================] - 118s 84ms/step - loss: 0.0248 - accuracy: 0.9927 - val_loss: 0.0483 - val_accuracy: 0.9860\n",
            "Epoch 25/200\n",
            "1407/1407 [==============================] - 119s 84ms/step - loss: 0.0226 - accuracy: 0.9933 - val_loss: 0.0474 - val_accuracy: 0.9869\n",
            "Epoch 26/200\n",
            "1407/1407 [==============================] - 118s 84ms/step - loss: 0.0229 - accuracy: 0.9934 - val_loss: 0.0470 - val_accuracy: 0.9862\n",
            "Epoch 27/200\n",
            "1407/1407 [==============================] - 118s 84ms/step - loss: 0.0245 - accuracy: 0.9931 - val_loss: 0.0458 - val_accuracy: 0.9870\n",
            "Epoch 28/200\n",
            "1407/1407 [==============================] - 119s 84ms/step - loss: 0.0208 - accuracy: 0.9943 - val_loss: 0.0464 - val_accuracy: 0.9867\n",
            "Epoch 29/200\n",
            "1407/1407 [==============================] - 118s 84ms/step - loss: 0.0212 - accuracy: 0.9940 - val_loss: 0.0461 - val_accuracy: 0.9869\n",
            "Epoch 30/200\n",
            "1407/1407 [==============================] - 119s 85ms/step - loss: 0.0224 - accuracy: 0.9937 - val_loss: 0.0468 - val_accuracy: 0.9865\n",
            "Epoch 31/200\n",
            "1407/1407 [==============================] - 118s 84ms/step - loss: 0.0191 - accuracy: 0.9946 - val_loss: 0.0457 - val_accuracy: 0.9867\n",
            "Epoch 32/200\n",
            "1407/1407 [==============================] - 119s 84ms/step - loss: 0.0187 - accuracy: 0.9952 - val_loss: 0.0465 - val_accuracy: 0.9869\n",
            "Epoch 33/200\n",
            "1407/1407 [==============================] - 119s 84ms/step - loss: 0.0201 - accuracy: 0.9947 - val_loss: 0.0463 - val_accuracy: 0.9870\n",
            "Epoch 34/200\n",
            "1407/1407 [==============================] - 118s 84ms/step - loss: 0.0198 - accuracy: 0.9942 - val_loss: 0.0467 - val_accuracy: 0.9866\n",
            "Epoch 35/200\n",
            "1407/1407 [==============================] - 118s 84ms/step - loss: 0.0223 - accuracy: 0.9946 - val_loss: 0.0462 - val_accuracy: 0.9873\n",
            "Epoch 36/200\n",
            "1407/1407 [==============================] - 118s 84ms/step - loss: 0.0178 - accuracy: 0.9952 - val_loss: 0.0460 - val_accuracy: 0.9873\n",
            "Epoch 37/200\n",
            "1407/1407 [==============================] - 117s 83ms/step - loss: 0.0194 - accuracy: 0.9945 - val_loss: 0.0457 - val_accuracy: 0.9865\n",
            "Epoch 38/200\n",
            "1407/1407 [==============================] - 117s 83ms/step - loss: 0.0185 - accuracy: 0.9947 - val_loss: 0.0460 - val_accuracy: 0.9868\n",
            "Epoch 39/200\n",
            "1407/1407 [==============================] - 118s 84ms/step - loss: 0.0185 - accuracy: 0.9947 - val_loss: 0.0464 - val_accuracy: 0.9871\n",
            "Epoch 40/200\n",
            "1407/1407 [==============================] - 117s 83ms/step - loss: 0.0196 - accuracy: 0.9949 - val_loss: 0.0464 - val_accuracy: 0.9868\n",
            "Epoch 41/200\n",
            "1407/1407 [==============================] - 118s 84ms/step - loss: 0.0173 - accuracy: 0.9956 - val_loss: 0.0455 - val_accuracy: 0.9870\n",
            "Epoch 42/200\n",
            "1407/1407 [==============================] - 117s 83ms/step - loss: 0.0168 - accuracy: 0.9956 - val_loss: 0.0458 - val_accuracy: 0.9868\n",
            "Epoch 43/200\n",
            "1407/1407 [==============================] - 118s 84ms/step - loss: 0.0174 - accuracy: 0.9958 - val_loss: 0.0461 - val_accuracy: 0.9869\n",
            "Epoch 44/200\n",
            "1407/1407 [==============================] - 118s 84ms/step - loss: 0.0159 - accuracy: 0.9959 - val_loss: 0.0460 - val_accuracy: 0.9874\n",
            "Epoch 45/200\n",
            "1407/1407 [==============================] - 118s 84ms/step - loss: 0.0171 - accuracy: 0.9956 - val_loss: 0.0456 - val_accuracy: 0.9869\n",
            "Epoch 46/200\n",
            "1407/1407 [==============================] - 118s 84ms/step - loss: 0.0170 - accuracy: 0.9953 - val_loss: 0.0460 - val_accuracy: 0.9872\n",
            "Epoch 47/200\n",
            "1407/1407 [==============================] - 118s 84ms/step - loss: 0.0170 - accuracy: 0.9958 - val_loss: 0.0466 - val_accuracy: 0.9869\n",
            "Epoch 48/200\n",
            "1407/1407 [==============================] - 118s 84ms/step - loss: 0.0170 - accuracy: 0.9954 - val_loss: 0.0459 - val_accuracy: 0.9871\n",
            "Epoch 49/200\n",
            "1407/1407 [==============================] - 118s 84ms/step - loss: 0.0163 - accuracy: 0.9961 - val_loss: 0.0467 - val_accuracy: 0.9870\n",
            "Epoch 50/200\n",
            "1407/1407 [==============================] - 117s 83ms/step - loss: 0.0162 - accuracy: 0.9956 - val_loss: 0.0462 - val_accuracy: 0.9873\n",
            "Epoch 51/200\n",
            "1407/1407 [==============================] - 117s 83ms/step - loss: 0.0182 - accuracy: 0.9958 - val_loss: 0.0462 - val_accuracy: 0.9871\n",
            "Epoch 52/200\n",
            "1407/1407 [==============================] - 117s 83ms/step - loss: 0.0157 - accuracy: 0.9962 - val_loss: 0.0465 - val_accuracy: 0.9873\n",
            "Epoch 53/200\n",
            "1407/1407 [==============================] - 119s 85ms/step - loss: 0.0147 - accuracy: 0.9960 - val_loss: 0.0463 - val_accuracy: 0.9871\n",
            "Epoch 54/200\n",
            "1407/1407 [==============================] - 120s 86ms/step - loss: 0.0165 - accuracy: 0.9958 - val_loss: 0.0464 - val_accuracy: 0.9871\n",
            "Epoch 55/200\n",
            "1407/1407 [==============================] - 120s 85ms/step - loss: 0.0170 - accuracy: 0.9960 - val_loss: 0.0463 - val_accuracy: 0.9871\n",
            "Epoch 56/200\n",
            "1407/1407 [==============================] - 120s 85ms/step - loss: 0.0163 - accuracy: 0.9955 - val_loss: 0.0462 - val_accuracy: 0.9872\n",
            "Epoch 57/200\n",
            "1407/1407 [==============================] - 121s 86ms/step - loss: 0.0177 - accuracy: 0.9957 - val_loss: 0.0461 - val_accuracy: 0.9870\n",
            "Epoch 58/200\n",
            "1407/1407 [==============================] - 120s 85ms/step - loss: 0.0149 - accuracy: 0.9963 - val_loss: 0.0464 - val_accuracy: 0.9871\n",
            "Epoch 59/200\n",
            "1407/1407 [==============================] - 120s 85ms/step - loss: 0.0153 - accuracy: 0.9964 - val_loss: 0.0462 - val_accuracy: 0.9869\n",
            "Epoch 60/200\n",
            "1407/1407 [==============================] - 120s 85ms/step - loss: 0.0165 - accuracy: 0.9959 - val_loss: 0.0464 - val_accuracy: 0.9870\n",
            "Epoch 61/200\n",
            "1407/1407 [==============================] - 120s 85ms/step - loss: 0.0146 - accuracy: 0.9961 - val_loss: 0.0464 - val_accuracy: 0.9872\n"
          ],
          "name": "stdout"
        },
        {
          "output_type": "execute_result",
          "data": {
            "text/plain": [
              "<tensorflow.python.keras.callbacks.History at 0x7fe965a58898>"
            ]
          },
          "metadata": {
            "tags": []
          },
          "execution_count": 17
        }
      ]
    },
    {
      "cell_type": "markdown",
      "metadata": {
        "id": "TC4AkwHyG2Uk"
      },
      "source": [
        "Here we know the training dataset has 45k samples and a batch size of 32. So we need to train 1406.5 , approximately 1407 samples in each batch\n",
        "1407*32 = 45K should be equal to the number of data points in the training set\n",
        "\n",
        "Here we stop at epoch lower than 200 because the validation error is not improving any further\n",
        "\n"
      ]
    },
    {
      "cell_type": "markdown",
      "metadata": {
        "id": "aRntOjq8LlPr"
      },
      "source": [
        "### 7.TESTING THE MODEL ON THE TEST SET AND EXTRACTING RELEVANT METRICS"
      ]
    },
    {
      "cell_type": "code",
      "metadata": {
        "colab": {
          "base_uri": "https://localhost:8080/"
        },
        "id": "kxaFt425MyGJ",
        "outputId": "e4e26a07-522d-4273-e01f-ae96c1573b95"
      },
      "source": [
        "model.load_weights(model_name) # here the weight we are produced during model training\n",
        "metrics = model.evaluate(X_test, Y_test_oh) # it will return the loss and metrics when we are testing the model # here we have categorical cross entropy here is loss and accuracy is the metrics\n",
        "#print(metrics) # in step 4 we stated that we wan to measure and monitor two metrics\n",
        "print(\"Categorical cross-entropy:\" , metrics[0])\n",
        "print(\"Accuracy:\" , metrics[1])\n"
      ],
      "execution_count": 18,
      "outputs": [
        {
          "output_type": "stream",
          "text": [
            "313/313 [==============================] - 6s 20ms/step - loss: 0.0347 - accuracy: 0.9891\n",
            "Categorical cross-entropy: 0.03465268015861511\n",
            "Accuracy: 0.9890999794006348\n"
          ],
          "name": "stdout"
        }
      ]
    },
    {
      "cell_type": "markdown",
      "metadata": {
        "id": "rI-oJYs2Smm_"
      },
      "source": [
        "#LOOKING AT THE WRONGLY CLASSIFIED IMAGES"
      ]
    },
    {
      "cell_type": "code",
      "metadata": {
        "colab": {
          "base_uri": "https://localhost:8080/",
          "height": 789
        },
        "id": "Ojq8G2t3NWEJ",
        "outputId": "b8856346-736f-4a96-f6e0-fe022e2c8a14"
      },
      "source": [
        "Y_pred = model.predict(X_test).argmax(axis = 1)# Here we are looking at the iamges and predicting the labels across the rows of the test set\n",
        "#print(Y_pred)\n",
        "# input is x_test and labels is being predicted\n",
        "# here we are predicting the class with the highest probability\n",
        "#printing the indexes where y_pred is not equal to y_test\n",
        "wrong_indexes = np.where(Y_pred !=Y_test)[0] #Predictions are differnet from the ground truth ie. test set\n",
        "#print(wrong_indexes)\n",
        "\n",
        "#print out a sample of indexes that have been incoorectly classified\n",
        " #looking at images that I want to identify incoorectly classified images so that I can understand where my model is unable to get correct results\n",
        "sample_indexes = np.random.choice (np.arange(wrong_indexes.size, dtype  = int), size = 30, replace = False ) #chosing 30 cases when the classification did not work\n",
        " # 30 wrong images that are not repeasted\n",
        " #above we show a subset of indexes\n",
        "#print(sample_indexes)\n",
        "#polotting cases when the classification failed\n",
        "plt.figure(figsize = (24,18))\n",
        "for (ii,jj) in enumerate(sample_indexes): # looking through 30 wrong images # index  is ii and position is jj\n",
        "   plt.subplot(5,6,ii+1) # each figure will have a different subplot. Each subplot wiull have 5 rows and 6 columns starting at index 1 (ii+1)\n",
        "   plt.imshow(X_test[wrong_indexes[jj]], cmap = 'gray') # the image that i want to show is the wrong image at position jj\n",
        "   plt.title(\"Label %d, predicted label :%d\"%(Y_test[wrong_indexes[jj]], Y_pred[wrong_indexes[jj]]))\n",
        "   #print(ii) # index is 0 to 30 in the sample dataset\n",
        "   #print(jj) #position in teh sample daatset( where the image is wrongly classfiied) where teh index position is above. It can eb anything ebwteen 0 to 10k ie.e. size of test sampel dataset\n",
        "   #print(wrong_indexes[jj]) #finding the indexes in the TEST SET at those positions for the wrong iamges\n",
        "   #Here we r print out teh image if what was preducted by x_test at that index position\n",
        "plt.show()\n",
        "\n"
      ],
      "execution_count": 19,
      "outputs": [
        {
          "output_type": "display_data",
          "data": {
            "image/png": "[encoded data removed]",
            "text/plain": [
              "<Figure size 1728x1296 with 30 Axes>"
            ]
          },
          "metadata": {
            "tags": [],
            "needs_background": "light"
          }
        }
      ]
    },
    {
      "cell_type": "markdown",
      "metadata": {
        "id": "LqNrAw_ng0nD"
      },
      "source": [
        " Three callbacks were defined in the dataset\n",
        " \n",
        "\n",
        "\n",
        "**CONCLUSION**\n",
        "For the fully connected neural network (FCNN):\n",
        "- The accuracy of test dataset is 91%.\n",
        "- The Categorical cross-entropy of the test set is 0.33\n",
        "\n",
        "\n",
        "For the convolutional connected neural network (CNN):\n",
        "- The accuracy of test dataset is 98.9%.\n",
        "- The Categorical cross-entropy is 0.34.\n",
        "- Three callbacks were defined in the dataset\n",
        "\n",
        "\n",
        "Also, we relialized that the difference between FCNN and CNN is that CNN is  computionally more intensive, more complex even tho it has less parameters to learn since we are dealing wth convulutions. In FCNN we deal with matrix mutiplication \n"
      ]
    }
  ]
}